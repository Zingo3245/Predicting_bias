{
 "cells": [
  {
   "cell_type": "code",
   "execution_count": 1,
   "metadata": {},
   "outputs": [],
   "source": [
    "import requests\n",
    "from bs4 import BeautifulSoup\n",
    "import re\n",
    "#The basics\n",
    "import numpy as np\n",
    "import pandas as pd\n",
    "\n",
    "#Get them web sites\n",
    "import requests\n",
    "\n",
    "#Make sure slenium works\n",
    "from selenium import webdriver\n",
    "from selenium.webdriver.common.keys import Keys\n",
    "import time\n",
    "import os\n",
    "\n",
    "#Start the google driver\n",
    "chromedriver = \"/Applications/chromedriver\"\n",
    "os.environ[\"webdriver.chrome.driver\"] = chromedriver\n",
    "\n",
    "#make sure to get a consistent table\n",
    "import pickle\n",
    "import re"
   ]
  },
  {
   "cell_type": "code",
   "execution_count": 2,
   "metadata": {},
   "outputs": [
    {
     "data": {
      "text/plain": [
       "200"
      ]
     },
     "execution_count": 2,
     "metadata": {},
     "output_type": "execute_result"
    }
   ],
   "source": [
    "url = 'https://www.huffingtonpost.com/section/politics'\n",
    "response = requests.get(url)\n",
    "response.status_code"
   ]
  },
  {
   "cell_type": "code",
   "execution_count": 3,
   "metadata": {},
   "outputs": [],
   "source": [
    "page = response.text"
   ]
  },
  {
   "cell_type": "code",
   "execution_count": 4,
   "metadata": {},
   "outputs": [],
   "source": [
    "soup = BeautifulSoup(page, \"lxml\")"
   ]
  },
  {
   "cell_type": "code",
   "execution_count": 5,
   "metadata": {},
   "outputs": [],
   "source": [
    "def get_case_links_from_html(html):\n",
    "    \"\"\"\n",
    "    Takes the text from a search page, and returns a list of URLs to individual cases\n",
    "    \"\"\"\n",
    "    soup = BeautifulSoup(html, 'lxml')\n",
    "    return list(set('https://www.huffingtonpost.com' + article['href'] for article in soup.find_all('a', class_=\"card__link yr-card-headline\")))\n",
    "\n",
    "def get_case_links_from_page(page_num, driver):\n",
    "    url = url_generator(page_num)\n",
    "    driver.get(url)\n",
    "    time.sleep(1)\n",
    "    html = driver.page_source\n",
    "    return get_case_links_from_html(html)"
   ]
  },
  {
   "cell_type": "code",
   "execution_count": 6,
   "metadata": {},
   "outputs": [],
   "source": [
    "def get_article(url):\n",
    "    html = requests.get(url).text\n",
    "    return html\n",
    "\n",
    "def parse_article(html):\n",
    "    soup = BeautifulSoup(html, 'lxml')\n",
    "    title = soup.find('h1', class_='headline__title').text\n",
    "    sub_title = soup.find('div', class_='headline__subtitle').text\n",
    "    body = soup.find('div', class_='entry__text js-entry-text yr-entry-text').text\n",
    "\n",
    "    article = {\n",
    "        'title': title,\n",
    "        'sub_title': sub_title,\n",
    "        'body': body,\n",
    "    }\n",
    "    \n",
    "    return article\n",
    "\n",
    "def get_parsed_article_from_link(url):\n",
    "    return parse_article(get_article(url))"
   ]
  },
  {
   "cell_type": "code",
   "execution_count": 7,
   "metadata": {},
   "outputs": [],
   "source": [
    "current_url = 'https://www.huffingtonpost.com/section/politics'\n",
    "next_url    = 'https://www.huffingtonpost.com/section/politics?page=2'\n",
    "\n",
    "def url_generator(page_num):\n",
    "    return 'https://www.huffingtonpost.com/section/politics?page={}'.format(page_num)"
   ]
  },
  {
   "cell_type": "code",
   "execution_count": null,
   "metadata": {},
   "outputs": [],
   "source": [
    "driver = webdriver.Chrome(chromedriver)\n",
    "driver.get(current_url)\n",
    "time.sleep(1)\n",
    "pages = [2, 3, 4, 5]\n",
    "more_articles = []\n",
    "for x in pages:\n",
    "    driver.get(url_generator(x))\n",
    "    time.sleep(3)\n",
    "    soup = BeautifulSoup(driver.page_source, 'lxml')\n",
    "    for article in soup.find_all('a', class_=\"card__link yr-card-headline\"):\n",
    "        link = 'https://www.huffingtonpost.com' + article['href']\n",
    "        more_articles.append(link)"
   ]
  },
  {
   "cell_type": "code",
   "execution_count": null,
   "metadata": {},
   "outputs": [],
   "source": [
    "soup = BeautifulSoup(driver.page_source, 'lxml')"
   ]
  },
  {
   "cell_type": "code",
   "execution_count": null,
   "metadata": {},
   "outputs": [],
   "source": [
    "article_link = []\n",
    "for article in soup.find_all('a', class_=\"card__link yr-card-headline\"):\n",
    "    link = 'https://www.huffingtonpost.com' + article['href']\n",
    "    article_link.append(link)\n",
    "    #article_link = article_link[5:]\n",
    "    print(article_link)"
   ]
  },
  {
   "cell_type": "code",
   "execution_count": null,
   "metadata": {},
   "outputs": [],
   "source": [
    "def get_article(url):\n",
    "    page = requests.get(url)\n",
    "    html = page.text\n",
    "    return html\n",
    "\n",
    "def parse_article(html):\n",
    "    soup = BeautifulSoup(html, 'lxml')\n",
    "    title = soup.find('h1', class_='headline__title').text\n",
    "    sub_title = soup.find('div', class_='headline__subtitle').text\n",
    "    body = soup.find('div', class_='entry__text js-entry-text yr-entry-text').text\n",
    "\n",
    "    article = {\n",
    "        'title': title,\n",
    "        'sub_title': sub_title,\n",
    "        'body': body,\n",
    "    }\n",
    "    \n",
    "    return article\n",
    "\n",
    "def get_parsed_article_from_link(url):\n",
    "    return parse_article(get_article(url))"
   ]
  },
  {
   "cell_type": "code",
   "execution_count": null,
   "metadata": {},
   "outputs": [],
   "source": [
    "list_o_articles = []\n",
    "problem_articles = []\n",
    "for text in article_link[5:-12]:\n",
    "    #print(text)\n",
    "    try:\n",
    "        art = get_parsed_article_from_link(text.encode())\n",
    "        print(art)\n",
    "        list_o_articles.append(art)\n",
    "    \n",
    "    except:\n",
    "        print(\"Problem processing url \" + text)\n",
    "        problem = text\n",
    "        problem_articles.append(problem)\n",
    "    time.sleep(3)"
   ]
  },
  {
   "cell_type": "code",
   "execution_count": null,
   "metadata": {},
   "outputs": [],
   "source": [
    "more_list_o_articles = []\n",
    "more_problem_articles = []\n",
    "for text in more_articles:\n",
    "    #print(text)\n",
    "    try:\n",
    "        art = get_parsed_article_from_link(text.encode())\n",
    "        print(art)\n",
    "        more_list_o_articles.append(art)\n",
    "    \n",
    "    except:\n",
    "        print(\"Problem processing url \" + text)\n",
    "        problem = text\n",
    "        more_problem_articles.append(problem)\n",
    "    time.sleep(3)"
   ]
  },
  {
   "cell_type": "code",
   "execution_count": null,
   "metadata": {},
   "outputs": [],
   "source": [
    "\n",
    "for text in more_problem_articles:\n",
    "    more_problem_articles = []\n",
    "    print(text)\n",
    "    try:\n",
    "        art = get_parsed_article_from_link(text.encode())\n",
    "        print(art)\n",
    "        more_list_o_articles.append(art)\n",
    "    \n",
    "    except:\n",
    "        #print(\"Problem processing url \" + text)\n",
    "        problem = text\n",
    "        more_problem_articles.append(problem)\n",
    "    time.sleep(3)"
   ]
  },
  {
   "cell_type": "code",
   "execution_count": null,
   "metadata": {},
   "outputs": [],
   "source": [
    "driver = webdriver.Chrome(chromedriver)\n",
    "for x in more_problem_articles:\n",
    "    driver.get(x)\n",
    "    time.sleep(3)\n",
    "    soupy = BeautifulSoup(driver.page_source, 'lxml')\n",
    "    title = soupy.find('h1', class_='headline__title').text\n",
    "    sub_title = soupy.find('div', class_='headline__subtitle').text\n",
    "    body = soupy.find('div', class_='entry__text js-entry-text yr-entry-text').text\n",
    "\n",
    "    articley = {\n",
    "        'title': title,\n",
    "        'sub_title': sub_title,\n",
    "        'body': body,\n",
    "    }\n",
    "\n",
    "    more_list_o_articles.append(articley)"
   ]
  },
  {
   "cell_type": "code",
   "execution_count": null,
   "metadata": {},
   "outputs": [],
   "source": [
    "\"\"\"with open('fake_news_df.pkl', 'wb') as picklefile:\n",
    "        pickle.dump(fake_news_df, picklefile)\"\"\""
   ]
  }
 ],
 "metadata": {
  "kernelspec": {
   "display_name": "Python 3",
   "language": "python",
   "name": "python3"
  },
  "language_info": {
   "codemirror_mode": {
    "name": "ipython",
    "version": 3
   },
   "file_extension": ".py",
   "mimetype": "text/x-python",
   "name": "python",
   "nbconvert_exporter": "python",
   "pygments_lexer": "ipython3",
   "version": "3.6.5"
  }
 },
 "nbformat": 4,
 "nbformat_minor": 2
}
