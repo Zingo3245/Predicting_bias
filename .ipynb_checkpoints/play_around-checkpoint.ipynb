{
 "cells": [
  {
   "cell_type": "code",
   "execution_count": 1,
   "metadata": {},
   "outputs": [],
   "source": [
    "#The basics\n",
    "import numpy as np\n",
    "import pandas as pd\n",
    "\n",
    "import pickle\n",
    "\n",
    "import numpy as np\n",
    "import sklearn\n",
    "import matplotlib\n",
    "import pandas as pd\n",
    "import sys\n",
    "import nltk\n",
    "import numpy as np\n",
    "import random\n",
    "import matplotlib.pyplot as plt\n",
    "import pandas as pd\n",
    "import math\n",
    "import scipy\n",
    "%matplotlib inline\n",
    "plt.style.use('seaborn')\n",
    "\n",
    "from nltk.corpus import stopwords\n",
    "from nltk.tokenize import sent_tokenize\n",
    "from nltk.stem import porter"
   ]
  },
  {
   "cell_type": "code",
   "execution_count": 2,
   "metadata": {},
   "outputs": [],
   "source": [
    "news_bias_df = pickle.load(open(\"I\\'m_Pickle_Rick/news_bias_df.pkl\", \"rb\" ))"
   ]
  },
  {
   "cell_type": "code",
   "execution_count": 577,
   "metadata": {},
   "outputs": [
    {
     "ename": "AttributeError",
     "evalue": "'list' object has no attribute 'words'",
     "output_type": "error",
     "traceback": [
      "\u001b[0;31m---------------------------------------------------------------------------\u001b[0m",
      "\u001b[0;31mAttributeError\u001b[0m                            Traceback (most recent call last)",
      "\u001b[0;32m<ipython-input-577-8170f5856109>\u001b[0m in \u001b[0;36m<module>\u001b[0;34m()\u001b[0m\n\u001b[1;32m      1\u001b[0m \u001b[0mstemmer\u001b[0m \u001b[0;34m=\u001b[0m \u001b[0mporter\u001b[0m\u001b[0;34m.\u001b[0m\u001b[0mPorterStemmer\u001b[0m\u001b[0;34m(\u001b[0m\u001b[0;34m)\u001b[0m\u001b[0;34m\u001b[0m\u001b[0m\n\u001b[0;32m----> 2\u001b[0;31m \u001b[0mstopwords\u001b[0m \u001b[0;34m=\u001b[0m \u001b[0mstopwords\u001b[0m\u001b[0;34m.\u001b[0m\u001b[0mwords\u001b[0m\u001b[0;34m(\u001b[0m\u001b[0;34m)\u001b[0m\u001b[0;34m\u001b[0m\u001b[0m\n\u001b[0m",
      "\u001b[0;31mAttributeError\u001b[0m: 'list' object has no attribute 'words'"
     ]
    }
   ],
   "source": [
    "stemmer = porter.PorterStemmer()\n",
    "stopwords = stopwords.words()"
   ]
  },
  {
   "cell_type": "code",
   "execution_count": 4,
   "metadata": {},
   "outputs": [],
   "source": [
    "def clean_text(text):\n",
    "    cleaned_text = []\n",
    "    for post in text:\n",
    "        cleaned_words = []\n",
    "        for word in post.split():\n",
    "            low_word = stemmer.stem(word.lower())\n",
    "            if low_word not in stopwords:\n",
    "                cleaned_words.append(low_word)\n",
    "        cleaned_text.append(' '.join(cleaned_words))\n",
    "    return cleaned_text"
   ]
  },
  {
   "cell_type": "code",
   "execution_count": 5,
   "metadata": {},
   "outputs": [],
   "source": [
    "main_body = news_bias_df.body"
   ]
  },
  {
   "cell_type": "code",
   "execution_count": 6,
   "metadata": {},
   "outputs": [],
   "source": [
    "cleaned_text = clean_text(main_body)"
   ]
  },
  {
   "cell_type": "markdown",
   "metadata": {},
   "source": [
    "## SKLearn"
   ]
  },
  {
   "cell_type": "code",
   "execution_count": 671,
   "metadata": {},
   "outputs": [],
   "source": [
    "from sklearn.feature_extraction.text import CountVectorizer\n",
    "\n",
    "count_vectorizer2 = CountVectorizer(ngram_range=(1, 2),  \n",
    "                                   stop_words='english', \n",
    "                                   token_pattern=\"\\\\b[a-z][a-z]+\\\\b\",\n",
    "                                   lowercase=True,\n",
    "                                   max_df = 0.6)\n",
    "\n",
    "X = count_vectorizer2.fit_transform(cleaned_text)"
   ]
  },
  {
   "cell_type": "code",
   "execution_count": 672,
   "metadata": {},
   "outputs": [
    {
     "name": "stderr",
     "output_type": "stream",
     "text": [
      "/Users/NickThomas/Desktop/anaconda/lib/python3.6/site-packages/sklearn/decomposition/online_lda.py:294: DeprecationWarning: n_topics has been renamed to n_components in version 0.19 and will be removed in 0.21\n",
      "  DeprecationWarning)\n"
     ]
    },
    {
     "data": {
      "text/plain": [
       "array([9.83717277e-01, 1.59095433e-02, 3.73179655e-04])"
      ]
     },
     "execution_count": 672,
     "metadata": {},
     "output_type": "execute_result"
    }
   ],
   "source": [
    "from sklearn.decomposition import LatentDirichletAllocation\n",
    "\n",
    "n_topics = 3\n",
    "n_iter = 10\n",
    "lda = LatentDirichletAllocation(n_topics=n_topics,\n",
    "                                max_iter=n_iter,\n",
    "                                random_state=42,\n",
    "                               learning_method='online')\n",
    "data = lda.fit_transform(X)\n",
    "data[0] "
   ]
  },
  {
   "cell_type": "code",
   "execution_count": 673,
   "metadata": {},
   "outputs": [
    {
     "name": "stdout",
     "output_type": "stream",
     "text": [
      "Topic  1\n",
      "window amp adsdiv function typeof amp amp gun case break typeof window adid like percent say year new women window origadsplid origadsplid undefined\n",
      "Topic  2\n",
      "republican state democrat hous year vote breitbart news nation american support elect million new make peopl like school work polit\n",
      "Topic  3\n",
      "state campaign china hous washington iran north reuters new deal offici investig korea fbi unit senat intellig time presid donald nation\n"
     ]
    }
   ],
   "source": [
    "def display_topics(model, feature_names, no_top_words):\n",
    "    for ix, topic in enumerate(model.components_):\n",
    "        print(\"Topic \", ix+1)\n",
    "        print(\" \".join([feature_names[i]\n",
    "                        for i in topic.argsort()[:-no_top_words - 1:-1]]))\n",
    "        \n",
    "display_topics(lda,count_vectorizer2.get_feature_names(),20)"
   ]
  },
  {
   "cell_type": "code",
   "execution_count": 674,
   "metadata": {},
   "outputs": [],
   "source": [
    "from sklearn.decomposition import PCA\n",
    "from sklearn.preprocessing import StandardScaler\n",
    "\n",
    "X = StandardScaler().fit_transform(data)\n",
    "\n",
    "pca = PCA(n_components = .9)\n",
    "X_centered_projected = pca.fit_transform(X)\n"
   ]
  },
  {
   "cell_type": "code",
   "execution_count": 675,
   "metadata": {},
   "outputs": [
    {
     "data": {
      "text/plain": [
       "(550, 2)"
      ]
     },
     "execution_count": 675,
     "metadata": {},
     "output_type": "execute_result"
    }
   ],
   "source": [
    "X_centered_projected.shape"
   ]
  },
  {
   "cell_type": "code",
   "execution_count": 677,
   "metadata": {},
   "outputs": [],
   "source": [
    "from sklearn.metrics import silhouette_score\n",
    "from sklearn.cluster import KMeans\n",
    "\n",
    "\n",
    "SSEs = []\n",
    "Sil_coefs = []\n",
    "for k in range(2,10):\n",
    "    km = KMeans(n_clusters=k, random_state=1)\n",
    "    km.fit(X_centered_projected)\n",
    "    labels = km.labels_\n",
    "    Sil_coefs.append(silhouette_score(X_centered_projected, labels, metric='euclidean'))\n",
    "    SSEs.append(km.inertia_) "
   ]
  },
  {
   "cell_type": "code",
   "execution_count": 678,
   "metadata": {},
   "outputs": [
    {
     "data": {
      "image/png": "[encoded data removed]",
      "text/plain": [
       "<Figure size 3000x1000 with 2 Axes>"
      ]
     },
     "metadata": {},
     "output_type": "display_data"
    }
   ],
   "source": [
    "fig, (ax1, ax2) = plt.subplots(1,2, figsize=(15,5), sharex=True, dpi=200)\n",
    "k_clusters = range(2,10)\n",
    "ax1.plot(k_clusters, Sil_coefs)\n",
    "ax1.set_xlabel('number of clusters')\n",
    "ax1.set_ylabel('silhouette coefficient')\n",
    "\n",
    "# plot here on ax2\n",
    "ax2.plot(k_clusters, SSEs)\n",
    "ax2.set_xlabel('number of clusters')\n",
    "ax2.set_ylabel('SSE');"
   ]
  },
  {
   "cell_type": "code",
   "execution_count": 679,
   "metadata": {},
   "outputs": [],
   "source": [
    "\n",
    "km = KMeans(n_clusters=3)\n",
    "clusts = km.fit_predict(X_centered_projected)"
   ]
  },
  {
   "cell_type": "code",
   "execution_count": 680,
   "metadata": {},
   "outputs": [
    {
     "data": {
      "text/plain": [
       "(550, 2)"
      ]
     },
     "execution_count": 680,
     "metadata": {},
     "output_type": "execute_result"
    }
   ],
   "source": [
    "X_centered_projected.shape"
   ]
  },
  {
   "cell_type": "code",
   "execution_count": 683,
   "metadata": {},
   "outputs": [
    {
     "data": {
      "text/plain": [
       "array([[-1.05902091, -0.13485727],\n",
       "       [ 1.88712182, -1.00988422],\n",
       "       [ 1.14869265,  2.59528453]])"
      ]
     },
     "execution_count": 683,
     "metadata": {},
     "output_type": "execute_result"
    }
   ],
   "source": [
    "centers = km.cluster_centers_\n",
    "centers"
   ]
  },
  {
   "cell_type": "code",
   "execution_count": 685,
   "metadata": {},
   "outputs": [
    {
     "data": {
      "text/plain": [
       "<matplotlib.collections.PathCollection at 0x1aa4ff17b8>"
      ]
     },
     "execution_count": 685,
     "metadata": {},
     "output_type": "execute_result"
    },
    {
     "data": {
      "image/png": "[encoded data removed]",
      "text/plain": [
       "<Figure size 432x288 with 1 Axes>"
      ]
     },
     "metadata": {},
     "output_type": "display_data"
    }
   ],
   "source": [
    "plt.scatter(X_centered_projected[:, 0], X_centered_projected[:, 1], c=clusts, cmap=plt.cm.rainbow, alpha=0.25)\n",
    "plt.scatter(centers[:,0], centers[:,1], marker=\"x\", color='y')\n",
    "#plt.xlim(-.5,1.5)\n",
    "#plt.ylim(1.5,4.5)"
   ]
  },
  {
   "cell_type": "code",
   "execution_count": 687,
   "metadata": {},
   "outputs": [],
   "source": [
    "from sklearn.manifold import TSNE\n",
    "\n",
    "tsne = TSNE(n_components=3)"
   ]
  },
  {
   "cell_type": "code",
   "execution_count": 688,
   "metadata": {},
   "outputs": [],
   "source": [
    "X_transformed = tsne.fit_transform(X_centered_projected)"
   ]
  },
  {
   "cell_type": "code",
   "execution_count": 689,
   "metadata": {},
   "outputs": [
    {
     "data": {
      "image/png": "[encoded data removed]",
      "text/plain": [
       "<Figure size 600x400 with 2 Axes>"
      ]
     },
     "metadata": {},
     "output_type": "display_data"
    }
   ],
   "source": [
    "plt.figure(dpi=100)\n",
    "\n",
    "cmap = plt.cm.get_cmap('rainbow', 10)\n",
    "plt.scatter(X_transformed[:, 0], X_transformed[:,1], c=clusts, cmap=cmap, alpha = 0.15)\n",
    "#plt.xlim(-20,30)\n",
    "#plt.ylim(-30,-10)\n",
    "plt.colorbar()\n",
    "plt.clim()"
   ]
  },
  {
   "cell_type": "code",
   "execution_count": 690,
   "metadata": {},
   "outputs": [],
   "source": [
    "news_bias_df['topic_model'] = clusts"
   ]
  },
  {
   "cell_type": "code",
   "execution_count": 691,
   "metadata": {},
   "outputs": [
    {
     "data": {
      "text/plain": [
       "0    334\n",
       "1    143\n",
       "2     73\n",
       "Name: topic_model, dtype: int64"
      ]
     },
     "execution_count": 691,
     "metadata": {},
     "output_type": "execute_result"
    }
   ],
   "source": [
    "news_bias_df.topic_model.value_counts()"
   ]
  },
  {
   "cell_type": "code",
   "execution_count": 692,
   "metadata": {},
   "outputs": [
    {
     "data": {
      "text/html": [
       "<div>\n",
       "<style scoped>\n",
       "    .dataframe tbody tr th:only-of-type {\n",
       "        vertical-align: middle;\n",
       "    }\n",
       "\n",
       "    .dataframe tbody tr th {\n",
       "        vertical-align: top;\n",
       "    }\n",
       "\n",
       "    .dataframe thead th {\n",
       "        text-align: right;\n",
       "    }\n",
       "</style>\n",
       "<table border=\"1\" class=\"dataframe\">\n",
       "  <thead>\n",
       "    <tr style=\"text-align: right;\">\n",
       "      <th></th>\n",
       "      <th>index</th>\n",
       "      <th>body</th>\n",
       "      <th>sub_title</th>\n",
       "      <th>title</th>\n",
       "      <th>topic</th>\n",
       "      <th>source</th>\n",
       "      <th>topic_model</th>\n",
       "    </tr>\n",
       "  </thead>\n",
       "  <tbody>\n",
       "    <tr>\n",
       "      <th>0</th>\n",
       "      <td>0</td>\n",
       "      <td>\\nSome Florida shoppers are vowing to boycott ...</td>\n",
       "      <td>Adam Putnam, a self-described \"NRA sellout\" ru...</td>\n",
       "      <td>Shoppers Boycott Publix Over Store's Donations...</td>\n",
       "      <td>1</td>\n",
       "      <td>Huffington Post</td>\n",
       "      <td>2</td>\n",
       "    </tr>\n",
       "    <tr>\n",
       "      <th>1</th>\n",
       "      <td>1</td>\n",
       "      <td>\\nLawmakers in the California Assembly voted M...</td>\n",
       "      <td>The bill would expand the list of those who ca...</td>\n",
       "      <td>California Moves To Let Schools, Co-workers 'R...</td>\n",
       "      <td>1</td>\n",
       "      <td>Huffington Post</td>\n",
       "      <td>2</td>\n",
       "    </tr>\n",
       "    <tr>\n",
       "      <th>2</th>\n",
       "      <td>2</td>\n",
       "      <td>\\nHANOI, Vietnam ― There was a time, a little ...</td>\n",
       "      <td>The Asian country’s energy needs are growing a...</td>\n",
       "      <td>Vietnam Is A Test For What Happens When The U....</td>\n",
       "      <td>1</td>\n",
       "      <td>Huffington Post</td>\n",
       "      <td>1</td>\n",
       "    </tr>\n",
       "    <tr>\n",
       "      <th>3</th>\n",
       "      <td>3</td>\n",
       "      <td>\\nPresident Donald Trump urged attendees at a ...</td>\n",
       "      <td>The president, who just unveiled new restricti...</td>\n",
       "      <td>Trump Rallies Conservatives With Promise Of Mo...</td>\n",
       "      <td>1</td>\n",
       "      <td>Huffington Post</td>\n",
       "      <td>2</td>\n",
       "    </tr>\n",
       "    <tr>\n",
       "      <th>4</th>\n",
       "      <td>4</td>\n",
       "      <td>\\nPresident Donald Trump swiftly defended Tomi...</td>\n",
       "      <td>The president hailed the Fox News pundit as a ...</td>\n",
       "      <td>Trump Praises Tomi Lahren After Restaurant Cro...</td>\n",
       "      <td>1</td>\n",
       "      <td>Huffington Post</td>\n",
       "      <td>1</td>\n",
       "    </tr>\n",
       "    <tr>\n",
       "      <th>5</th>\n",
       "      <td>5</td>\n",
       "      <td>\\nA business partner of U.S. President Donald ...</td>\n",
       "      <td>Evgeny Freidman has been Cohen’s partner in th...</td>\n",
       "      <td>Report: Michael Cohen's Business Partner Coope...</td>\n",
       "      <td>1</td>\n",
       "      <td>Huffington Post</td>\n",
       "      <td>0</td>\n",
       "    </tr>\n",
       "    <tr>\n",
       "      <th>6</th>\n",
       "      <td>8</td>\n",
       "      <td>\\nTeachers whose protests have spread across t...</td>\n",
       "      <td>The upset comes after widespread teacher prote...</td>\n",
       "      <td>High School Teacher Defeats Kentucky House Maj...</td>\n",
       "      <td>1</td>\n",
       "      <td>Huffington Post</td>\n",
       "      <td>1</td>\n",
       "    </tr>\n",
       "    <tr>\n",
       "      <th>7</th>\n",
       "      <td>9</td>\n",
       "      <td>\\nWASHINGTON ― His client insists there was “N...</td>\n",
       "      <td>“It was sort of like a gift,\" Giuliani said of...</td>\n",
       "      <td>Giuliani’s New Stance On Russian Collusion: So...</td>\n",
       "      <td>1</td>\n",
       "      <td>Huffington Post</td>\n",
       "      <td>2</td>\n",
       "    </tr>\n",
       "    <tr>\n",
       "      <th>8</th>\n",
       "      <td>10</td>\n",
       "      <td>\\nComplying with a “work requirement” in order...</td>\n",
       "      <td>The GOP poverty agenda would expand the admini...</td>\n",
       "      <td>Work Requirements Are Paperwork Requirements</td>\n",
       "      <td>1</td>\n",
       "      <td>Huffington Post</td>\n",
       "      <td>1</td>\n",
       "    </tr>\n",
       "    <tr>\n",
       "      <th>9</th>\n",
       "      <td>11</td>\n",
       "      <td>\\n\\n\\n\\n\\n\\nDownload\\n\\n\\n\\n\\n\\nJust under one...</td>\n",
       "      <td>That percentage has barely budged since last y...</td>\n",
       "      <td>Just One-Third Of Americans Think Trump Is Suc...</td>\n",
       "      <td>1</td>\n",
       "      <td>Huffington Post</td>\n",
       "      <td>2</td>\n",
       "    </tr>\n",
       "    <tr>\n",
       "      <th>10</th>\n",
       "      <td>12</td>\n",
       "      <td>\\nA reporter was grabbed and shoved by a secur...</td>\n",
       "      <td>Add this to the long, ever-growing list of sca...</td>\n",
       "      <td>Reporter Shoved, Others Barred From EPA Meetin...</td>\n",
       "      <td>1</td>\n",
       "      <td>Huffington Post</td>\n",
       "      <td>2</td>\n",
       "    </tr>\n",
       "    <tr>\n",
       "      <th>11</th>\n",
       "      <td>13</td>\n",
       "      <td>\\nHomeland Security Secretary Kirstjen Nielsen...</td>\n",
       "      <td>A publicly available 2017 assessment from the ...</td>\n",
       "      <td>DHS Head Says She’s Still, Somehow, Unaware Of...</td>\n",
       "      <td>1</td>\n",
       "      <td>Huffington Post</td>\n",
       "      <td>0</td>\n",
       "    </tr>\n",
       "    <tr>\n",
       "      <th>12</th>\n",
       "      <td>14</td>\n",
       "      <td>\\n\\n\\n\\n\\n\\nDownload\\n\\n\\n\\n\\n\\nAs more and mo...</td>\n",
       "      <td>Their agenda would steer $100 billion toward s...</td>\n",
       "      <td>Democrats Want To Boost School Funding To Addr...</td>\n",
       "      <td>1</td>\n",
       "      <td>Huffington Post</td>\n",
       "      <td>1</td>\n",
       "    </tr>\n",
       "    <tr>\n",
       "      <th>13</th>\n",
       "      <td>15</td>\n",
       "      <td>\\nA former adviser to President Donald Trump o...</td>\n",
       "      <td>Trump has asked the Justice Department to look...</td>\n",
       "      <td>Ex-Trump Adviser Calls President’s Claims That...</td>\n",
       "      <td>1</td>\n",
       "      <td>Huffington Post</td>\n",
       "      <td>0</td>\n",
       "    </tr>\n",
       "    <tr>\n",
       "      <th>14</th>\n",
       "      <td>16</td>\n",
       "      <td>\\nPresident Donald Trump uses a cellphone not ...</td>\n",
       "      <td>The president is said to use a cellphone that ...</td>\n",
       "      <td>Trump Reportedly Rejects Phone Security Measur...</td>\n",
       "      <td>1</td>\n",
       "      <td>Huffington Post</td>\n",
       "      <td>2</td>\n",
       "    </tr>\n",
       "    <tr>\n",
       "      <th>15</th>\n",
       "      <td>17</td>\n",
       "      <td>\\nShould Democrats nominate a candidate based ...</td>\n",
       "      <td>The contest between Stacey Abrams and Stacey E...</td>\n",
       "      <td>Georgia Governor’s Primary Highlights Competin...</td>\n",
       "      <td>1</td>\n",
       "      <td>Huffington Post</td>\n",
       "      <td>1</td>\n",
       "    </tr>\n",
       "    <tr>\n",
       "      <th>16</th>\n",
       "      <td>18</td>\n",
       "      <td>\\nHonoring the Yale University tradition of we...</td>\n",
       "      <td>\"If you can't beat 'em, join 'em,\" Clinton sai...</td>\n",
       "      <td>Hillary Clinton Tips A Russian Hat At Trump Du...</td>\n",
       "      <td>1</td>\n",
       "      <td>Huffington Post</td>\n",
       "      <td>1</td>\n",
       "    </tr>\n",
       "    <tr>\n",
       "      <th>17</th>\n",
       "      <td>19</td>\n",
       "      <td>\\nPresident Donald Trump said on Sunday he int...</td>\n",
       "      <td>The Justice Department responded by asking its...</td>\n",
       "      <td>Trump Sets Up Showdown With DOJ Over Claims Of...</td>\n",
       "      <td>1</td>\n",
       "      <td>Huffington Post</td>\n",
       "      <td>0</td>\n",
       "    </tr>\n",
       "    <tr>\n",
       "      <th>18</th>\n",
       "      <td>21</td>\n",
       "      <td>\\nThe Trump administration on Monday proposed ...</td>\n",
       "      <td>The proposal would allow hunters to kill bear ...</td>\n",
       "      <td>Trump Team Moves To Lift Ban On 'Extreme' Hunt...</td>\n",
       "      <td>1</td>\n",
       "      <td>Huffington Post</td>\n",
       "      <td>2</td>\n",
       "    </tr>\n",
       "    <tr>\n",
       "      <th>19</th>\n",
       "      <td>22</td>\n",
       "      <td>\\nUPDATE: May 22 ― Retired fighter pilot Amy M...</td>\n",
       "      <td>Retired fighter pilot Amy McGrath’s upstart pr...</td>\n",
       "      <td>Talking Grievance And Health Care, An Outsider...</td>\n",
       "      <td>1</td>\n",
       "      <td>Huffington Post</td>\n",
       "      <td>1</td>\n",
       "    </tr>\n",
       "    <tr>\n",
       "      <th>20</th>\n",
       "      <td>33</td>\n",
       "      <td>\\nImmigration and Customs Enforcement is arres...</td>\n",
       "      <td>The president often talks about criminals that...</td>\n",
       "      <td>Trump's ICE Is Increasingly Arresting Immigran...</td>\n",
       "      <td>1</td>\n",
       "      <td>Huffington Post</td>\n",
       "      <td>0</td>\n",
       "    </tr>\n",
       "    <tr>\n",
       "      <th>21</th>\n",
       "      <td>34</td>\n",
       "      <td>\\nObama-era White House photographer Pete Souz...</td>\n",
       "      <td>\"Dear sir: THESE are animals.\"</td>\n",
       "      <td>Obama Photographer Taunts Donald Trump For Cal...</td>\n",
       "      <td>1</td>\n",
       "      <td>Huffington Post</td>\n",
       "      <td>0</td>\n",
       "    </tr>\n",
       "    <tr>\n",
       "      <th>22</th>\n",
       "      <td>35</td>\n",
       "      <td>\\nDonald Trump was so excited to welcome the f...</td>\n",
       "      <td>Has \"Melanie\" signed an NDA?</td>\n",
       "      <td>Trump Misspells Melania's Name In Welcome Home...</td>\n",
       "      <td>1</td>\n",
       "      <td>Huffington Post</td>\n",
       "      <td>1</td>\n",
       "    </tr>\n",
       "    <tr>\n",
       "      <th>23</th>\n",
       "      <td>58</td>\n",
       "      <td>\\nWarning: Spoilers for “The Handmaid’s Tale” ...</td>\n",
       "      <td>Season 2, Episode 6 is explosive ― and all abo...</td>\n",
       "      <td>In 'The Handmaid's Tale,' The Road To Gilead I...</td>\n",
       "      <td>1</td>\n",
       "      <td>Huffington Post</td>\n",
       "      <td>2</td>\n",
       "    </tr>\n",
       "    <tr>\n",
       "      <th>24</th>\n",
       "      <td>60</td>\n",
       "      <td>\\nThe White House-brokered meeting during whic...</td>\n",
       "      <td>Republicans have been demanding a look at docu...</td>\n",
       "      <td>Democrats Weren't Invited To Review Classified...</td>\n",
       "      <td>1</td>\n",
       "      <td>Huffington Post</td>\n",
       "      <td>0</td>\n",
       "    </tr>\n",
       "    <tr>\n",
       "      <th>25</th>\n",
       "      <td>61</td>\n",
       "      <td>\\nLiterary giant Philip Roth’s critical commen...</td>\n",
       "      <td>\"A massive fraud, the evil sum of his deficien...</td>\n",
       "      <td>Philip Roth Once Torched Donald Trump In The M...</td>\n",
       "      <td>1</td>\n",
       "      <td>Huffington Post</td>\n",
       "      <td>2</td>\n",
       "    </tr>\n",
       "    <tr>\n",
       "      <th>26</th>\n",
       "      <td>62</td>\n",
       "      <td>\\nTrevor Noah isn’t likely to score an intervi...</td>\n",
       "      <td>Under $1 million?</td>\n",
       "      <td>Trevor Noah Reveals The Question He’d Ask Dona...</td>\n",
       "      <td>1</td>\n",
       "      <td>Huffington Post</td>\n",
       "      <td>1</td>\n",
       "    </tr>\n",
       "    <tr>\n",
       "      <th>27</th>\n",
       "      <td>64</td>\n",
       "      <td>\\nThe NFL on Wednesday approved a new policy t...</td>\n",
       "      <td>Teams can set their own policies for punishing...</td>\n",
       "      <td>NFL Bans Kneeling During The National Anthem</td>\n",
       "      <td>1</td>\n",
       "      <td>Huffington Post</td>\n",
       "      <td>2</td>\n",
       "    </tr>\n",
       "    <tr>\n",
       "      <th>28</th>\n",
       "      <td>68</td>\n",
       "      <td>\\n“Late Night” writer Mike Karnell is on a mis...</td>\n",
       "      <td>\"When people see me -- a portly, soft-chinned ...</td>\n",
       "      <td>'Late Night' Writer Vows To 'Take Red Hats Bac...</td>\n",
       "      <td>1</td>\n",
       "      <td>Huffington Post</td>\n",
       "      <td>2</td>\n",
       "    </tr>\n",
       "    <tr>\n",
       "      <th>29</th>\n",
       "      <td>69</td>\n",
       "      <td>\\n\\n\\n\\n\\n\\nDownload\\n\\n\\n\\n\\n\\nTwo outside gr...</td>\n",
       "      <td>The outside groups can spend big to alter elec...</td>\n",
       "      <td>Super PACs That Meddled In West Virginia’s Sen...</td>\n",
       "      <td>1</td>\n",
       "      <td>Huffington Post</td>\n",
       "      <td>1</td>\n",
       "    </tr>\n",
       "    <tr>\n",
       "      <th>...</th>\n",
       "      <td>...</td>\n",
       "      <td>...</td>\n",
       "      <td>...</td>\n",
       "      <td>...</td>\n",
       "      <td>...</td>\n",
       "      <td>...</td>\n",
       "      <td>...</td>\n",
       "    </tr>\n",
       "    <tr>\n",
       "      <th>520</th>\n",
       "      <td>575</td>\n",
       "      <td>\\nFormer porn star Mia Khalifa turned her shot...</td>\n",
       "      <td>The telecommunications giant’s $85 billion mer...</td>\n",
       "      <td>Ex-Pornstar Mia Khalifa Turns in Shotgun, Dona...</td>\n",
       "      <td>3</td>\n",
       "      <td>Breitbart</td>\n",
       "      <td>1</td>\n",
       "    </tr>\n",
       "    <tr>\n",
       "      <th>521</th>\n",
       "      <td>576</td>\n",
       "      <td>\\nHomeschooling families have not only thrived...</td>\n",
       "      <td>The telecommunications giant’s $85 billion mer...</td>\n",
       "      <td>Homeschooling Thriving in Face of Attacks</td>\n",
       "      <td>3</td>\n",
       "      <td>Breitbart</td>\n",
       "      <td>1</td>\n",
       "    </tr>\n",
       "    <tr>\n",
       "      <th>522</th>\n",
       "      <td>577</td>\n",
       "      <td>\\nAs the tech giants face growing scrutiny ove...</td>\n",
       "      <td>The telecommunications giant’s $85 billion mer...</td>\n",
       "      <td>Dr. Robert Epstein Releases Details on Project...</td>\n",
       "      <td>3</td>\n",
       "      <td>Breitbart</td>\n",
       "      <td>1</td>\n",
       "    </tr>\n",
       "    <tr>\n",
       "      <th>523</th>\n",
       "      <td>578</td>\n",
       "      <td>\\nParkland, Florida, gun control activist Davi...</td>\n",
       "      <td>The telecommunications giant’s $85 billion mer...</td>\n",
       "      <td>David Hogg: Deny Santa Fe Shooter Notoriety by...</td>\n",
       "      <td>3</td>\n",
       "      <td>Breitbart</td>\n",
       "      <td>1</td>\n",
       "    </tr>\n",
       "    <tr>\n",
       "      <th>524</th>\n",
       "      <td>579</td>\n",
       "      <td>\\nNearly two years into the Trump Takeover of ...</td>\n",
       "      <td>The telecommunications giant’s $85 billion mer...</td>\n",
       "      <td>Exclusive – Rep. Matt Gaetz: In FL Gov. Race, ...</td>\n",
       "      <td>3</td>\n",
       "      <td>Breitbart</td>\n",
       "      <td>1</td>\n",
       "    </tr>\n",
       "    <tr>\n",
       "      <th>525</th>\n",
       "      <td>580</td>\n",
       "      <td>\\nThe chief White House economic adviser Monda...</td>\n",
       "      <td>The telecommunications giant’s $85 billion mer...</td>\n",
       "      <td>Kudlow: Trade ‘Truce’ Doesn’t Mean We’re Backi...</td>\n",
       "      <td>3</td>\n",
       "      <td>Breitbart</td>\n",
       "      <td>0</td>\n",
       "    </tr>\n",
       "    <tr>\n",
       "      <th>526</th>\n",
       "      <td>581</td>\n",
       "      <td>\\nThis week, Republican lawmakers will shine n...</td>\n",
       "      <td>The telecommunications giant’s $85 billion mer...</td>\n",
       "      <td>GOP Lawmakers to File Resolution Detailing DOJ...</td>\n",
       "      <td>3</td>\n",
       "      <td>Breitbart</td>\n",
       "      <td>0</td>\n",
       "    </tr>\n",
       "    <tr>\n",
       "      <th>527</th>\n",
       "      <td>582</td>\n",
       "      <td>\\nTEL AVIV – Israel’s ambassador to the UN Dan...</td>\n",
       "      <td>The telecommunications giant’s $85 billion mer...</td>\n",
       "      <td>Israeli UN Envoy Urges Security Council to Rej...</td>\n",
       "      <td>3</td>\n",
       "      <td>Breitbart</td>\n",
       "      <td>0</td>\n",
       "    </tr>\n",
       "    <tr>\n",
       "      <th>528</th>\n",
       "      <td>583</td>\n",
       "      <td>\\nJohn Brennan, President Obama’s former CIA d...</td>\n",
       "      <td>The telecommunications giant’s $85 billion mer...</td>\n",
       "      <td>Nolte: Ex-CIA Director John Brennan Threatens ...</td>\n",
       "      <td>3</td>\n",
       "      <td>Breitbart</td>\n",
       "      <td>0</td>\n",
       "    </tr>\n",
       "    <tr>\n",
       "      <th>529</th>\n",
       "      <td>584</td>\n",
       "      <td>\\nPresident Donald J. Trump questioned the act...</td>\n",
       "      <td>The telecommunications giant’s $85 billion mer...</td>\n",
       "      <td>Donald Trump: ‘Where in the World Was Barack O...</td>\n",
       "      <td>3</td>\n",
       "      <td>Breitbart</td>\n",
       "      <td>0</td>\n",
       "    </tr>\n",
       "    <tr>\n",
       "      <th>530</th>\n",
       "      <td>585</td>\n",
       "      <td>\\nPresident Donald J. Trump said that former C...</td>\n",
       "      <td>The telecommunications giant’s $85 billion mer...</td>\n",
       "      <td>Donald Trump Goes to War with ‘Disgraced’ John...</td>\n",
       "      <td>3</td>\n",
       "      <td>Breitbart</td>\n",
       "      <td>0</td>\n",
       "    </tr>\n",
       "    <tr>\n",
       "      <th>531</th>\n",
       "      <td>586</td>\n",
       "      <td>\\nThis year marks the hundred-year anniversary...</td>\n",
       "      <td>The telecommunications giant’s $85 billion mer...</td>\n",
       "      <td>Exclusive–Patrick K. O’Donnell: A Different Ki...</td>\n",
       "      <td>3</td>\n",
       "      <td>Breitbart</td>\n",
       "      <td>2</td>\n",
       "    </tr>\n",
       "    <tr>\n",
       "      <th>532</th>\n",
       "      <td>587</td>\n",
       "      <td>\\nTreasury Secretary Steven Mnuchin said Monda...</td>\n",
       "      <td>The telecommunications giant’s $85 billion mer...</td>\n",
       "      <td>Mnuchin Says ‘The Team is Unified’ in China Tr...</td>\n",
       "      <td>3</td>\n",
       "      <td>Breitbart</td>\n",
       "      <td>0</td>\n",
       "    </tr>\n",
       "    <tr>\n",
       "      <th>533</th>\n",
       "      <td>588</td>\n",
       "      <td>\\nFamily Guy creator Seth MacFarlane has donat...</td>\n",
       "      <td>The telecommunications giant’s $85 billion mer...</td>\n",
       "      <td>‘Family Guy’ Creator Seth MacFarlane Gives $2 ...</td>\n",
       "      <td>3</td>\n",
       "      <td>Breitbart</td>\n",
       "      <td>1</td>\n",
       "    </tr>\n",
       "    <tr>\n",
       "      <th>534</th>\n",
       "      <td>589</td>\n",
       "      <td>\\nIslamic terrorists have massacred at least 4...</td>\n",
       "      <td>The telecommunications giant’s $85 billion mer...</td>\n",
       "      <td>Ramadan Rage: Jihadists Kill 41, Injure 102 in...</td>\n",
       "      <td>3</td>\n",
       "      <td>Breitbart</td>\n",
       "      <td>1</td>\n",
       "    </tr>\n",
       "    <tr>\n",
       "      <th>535</th>\n",
       "      <td>590</td>\n",
       "      <td>\\nTEL AVIV – Prime Minister Benjamin Netanyahu...</td>\n",
       "      <td>The telecommunications giant’s $85 billion mer...</td>\n",
       "      <td>Paraguay Becomes Third Country in a Week to Op...</td>\n",
       "      <td>3</td>\n",
       "      <td>Breitbart</td>\n",
       "      <td>0</td>\n",
       "    </tr>\n",
       "    <tr>\n",
       "      <th>536</th>\n",
       "      <td>591</td>\n",
       "      <td>\\nLast week, reports indicated Stefan Halper, ...</td>\n",
       "      <td>The telecommunications giant’s $85 billion mer...</td>\n",
       "      <td>Who Is Stefan Halper? Meet the ‘FBI Informant’...</td>\n",
       "      <td>3</td>\n",
       "      <td>Breitbart</td>\n",
       "      <td>0</td>\n",
       "    </tr>\n",
       "    <tr>\n",
       "      <th>537</th>\n",
       "      <td>592</td>\n",
       "      <td>\\nPresident Donald J. Trump signaled a victory...</td>\n",
       "      <td>The telecommunications giant’s $85 billion mer...</td>\n",
       "      <td>Donald Trump Signals Victory with China as Tra...</td>\n",
       "      <td>3</td>\n",
       "      <td>Breitbart</td>\n",
       "      <td>0</td>\n",
       "    </tr>\n",
       "    <tr>\n",
       "      <th>538</th>\n",
       "      <td>593</td>\n",
       "      <td>\\nMark Penn — Hillary Clinton’s chief strategi...</td>\n",
       "      <td>The telecommunications giant’s $85 billion mer...</td>\n",
       "      <td>Clintonista Mark Penn: Mueller Probe Exposed —...</td>\n",
       "      <td>3</td>\n",
       "      <td>Breitbart</td>\n",
       "      <td>0</td>\n",
       "    </tr>\n",
       "    <tr>\n",
       "      <th>539</th>\n",
       "      <td>594</td>\n",
       "      <td>\\nProPublica reports the Republican National C...</td>\n",
       "      <td>The telecommunications giant’s $85 billion mer...</td>\n",
       "      <td>GOP Sets Fundraising Record in April as Democr...</td>\n",
       "      <td>3</td>\n",
       "      <td>Breitbart</td>\n",
       "      <td>1</td>\n",
       "    </tr>\n",
       "    <tr>\n",
       "      <th>540</th>\n",
       "      <td>595</td>\n",
       "      <td>\\nWASHINGTON, DC — Over 100 conservative leade...</td>\n",
       "      <td>The telecommunications giant’s $85 billion mer...</td>\n",
       "      <td>Conservative Leaders Call on Jim Jordan to Run...</td>\n",
       "      <td>3</td>\n",
       "      <td>Breitbart</td>\n",
       "      <td>1</td>\n",
       "    </tr>\n",
       "    <tr>\n",
       "      <th>541</th>\n",
       "      <td>596</td>\n",
       "      <td>\\nFailed presidential candidate Hillary Clinto...</td>\n",
       "      <td>The telecommunications giant’s $85 billion mer...</td>\n",
       "      <td>Still Not Over It: Hillary Taunts Trump by Don...</td>\n",
       "      <td>3</td>\n",
       "      <td>Breitbart</td>\n",
       "      <td>0</td>\n",
       "    </tr>\n",
       "    <tr>\n",
       "      <th>542</th>\n",
       "      <td>597</td>\n",
       "      <td>\\nTurkish President Recep Tayyip Erdoğan conde...</td>\n",
       "      <td>The telecommunications giant’s $85 billion mer...</td>\n",
       "      <td>Deliver an ‘Ottoman Slap’ in ‘Failing Europe’,...</td>\n",
       "      <td>3</td>\n",
       "      <td>Breitbart</td>\n",
       "      <td>0</td>\n",
       "    </tr>\n",
       "    <tr>\n",
       "      <th>543</th>\n",
       "      <td>598</td>\n",
       "      <td>\\nJERUSALEM (AP) — The Palestinian president’s...</td>\n",
       "      <td>The telecommunications giant’s $85 billion mer...</td>\n",
       "      <td>Palestinian Authority President Mahmoud Abbas ...</td>\n",
       "      <td>3</td>\n",
       "      <td>Breitbart</td>\n",
       "      <td>0</td>\n",
       "    </tr>\n",
       "    <tr>\n",
       "      <th>544</th>\n",
       "      <td>599</td>\n",
       "      <td>\\n(AFP) BEIRUT — At least 28 pro-government fi...</td>\n",
       "      <td>The telecommunications giant’s $85 billion mer...</td>\n",
       "      <td>Death Toll from Blasts at Syria Airbase Climbs...</td>\n",
       "      <td>3</td>\n",
       "      <td>Breitbart</td>\n",
       "      <td>0</td>\n",
       "    </tr>\n",
       "    <tr>\n",
       "      <th>545</th>\n",
       "      <td>600</td>\n",
       "      <td>\\nCalifornia winemakers that have enjoyed an e...</td>\n",
       "      <td>The telecommunications giant’s $85 billion mer...</td>\n",
       "      <td>U.S.-China Trade Deal to End Retaliatory Tarif...</td>\n",
       "      <td>3</td>\n",
       "      <td>Breitbart</td>\n",
       "      <td>0</td>\n",
       "    </tr>\n",
       "    <tr>\n",
       "      <th>546</th>\n",
       "      <td>601</td>\n",
       "      <td>\\nFormer Freedom Caucus Chairman Jim Jordan (R...</td>\n",
       "      <td>The telecommunications giant’s $85 billion mer...</td>\n",
       "      <td>Exclusive– Jim Jordan: Moderate and Conservati...</td>\n",
       "      <td>3</td>\n",
       "      <td>Breitbart</td>\n",
       "      <td>1</td>\n",
       "    </tr>\n",
       "    <tr>\n",
       "      <th>547</th>\n",
       "      <td>602</td>\n",
       "      <td>\\nU.S. Secretary of the Interior Ryan Zinke di...</td>\n",
       "      <td>The telecommunications giant’s $85 billion mer...</td>\n",
       "      <td>Zinke to Duke and Duchess of Sussex: How About...</td>\n",
       "      <td>3</td>\n",
       "      <td>Breitbart</td>\n",
       "      <td>1</td>\n",
       "    </tr>\n",
       "    <tr>\n",
       "      <th>548</th>\n",
       "      <td>603</td>\n",
       "      <td>\\nA contentious GOP convention to select the p...</td>\n",
       "      <td>The telecommunications giant’s $85 billion mer...</td>\n",
       "      <td>Contentious GOP Convention in VA-6 Ends with M...</td>\n",
       "      <td>3</td>\n",
       "      <td>Breitbart</td>\n",
       "      <td>1</td>\n",
       "    </tr>\n",
       "    <tr>\n",
       "      <th>549</th>\n",
       "      <td>604</td>\n",
       "      <td>\\nPresident Donald Trump’s attorney Rudy Giuli...</td>\n",
       "      <td>The telecommunications giant’s $85 billion mer...</td>\n",
       "      <td>Giuliani: Mueller To Finish Probing Possible T...</td>\n",
       "      <td>3</td>\n",
       "      <td>Breitbart</td>\n",
       "      <td>0</td>\n",
       "    </tr>\n",
       "  </tbody>\n",
       "</table>\n",
       "<p>550 rows × 7 columns</p>\n",
       "</div>"
      ],
      "text/plain": [
       "     index                                               body  \\\n",
       "0        0  \\nSome Florida shoppers are vowing to boycott ...   \n",
       "1        1  \\nLawmakers in the California Assembly voted M...   \n",
       "2        2  \\nHANOI, Vietnam ― There was a time, a little ...   \n",
       "3        3  \\nPresident Donald Trump urged attendees at a ...   \n",
       "4        4  \\nPresident Donald Trump swiftly defended Tomi...   \n",
       "5        5  \\nA business partner of U.S. President Donald ...   \n",
       "6        8  \\nTeachers whose protests have spread across t...   \n",
       "7        9  \\nWASHINGTON ― His client insists there was “N...   \n",
       "8       10  \\nComplying with a “work requirement” in order...   \n",
       "9       11  \\n\\n\\n\\n\\n\\nDownload\\n\\n\\n\\n\\n\\nJust under one...   \n",
       "10      12  \\nA reporter was grabbed and shoved by a secur...   \n",
       "11      13  \\nHomeland Security Secretary Kirstjen Nielsen...   \n",
       "12      14  \\n\\n\\n\\n\\n\\nDownload\\n\\n\\n\\n\\n\\nAs more and mo...   \n",
       "13      15  \\nA former adviser to President Donald Trump o...   \n",
       "14      16  \\nPresident Donald Trump uses a cellphone not ...   \n",
       "15      17  \\nShould Democrats nominate a candidate based ...   \n",
       "16      18  \\nHonoring the Yale University tradition of we...   \n",
       "17      19  \\nPresident Donald Trump said on Sunday he int...   \n",
       "18      21  \\nThe Trump administration on Monday proposed ...   \n",
       "19      22  \\nUPDATE: May 22 ― Retired fighter pilot Amy M...   \n",
       "20      33  \\nImmigration and Customs Enforcement is arres...   \n",
       "21      34  \\nObama-era White House photographer Pete Souz...   \n",
       "22      35  \\nDonald Trump was so excited to welcome the f...   \n",
       "23      58  \\nWarning: Spoilers for “The Handmaid’s Tale” ...   \n",
       "24      60  \\nThe White House-brokered meeting during whic...   \n",
       "25      61  \\nLiterary giant Philip Roth’s critical commen...   \n",
       "26      62  \\nTrevor Noah isn’t likely to score an intervi...   \n",
       "27      64  \\nThe NFL on Wednesday approved a new policy t...   \n",
       "28      68  \\n“Late Night” writer Mike Karnell is on a mis...   \n",
       "29      69  \\n\\n\\n\\n\\n\\nDownload\\n\\n\\n\\n\\n\\nTwo outside gr...   \n",
       "..     ...                                                ...   \n",
       "520    575  \\nFormer porn star Mia Khalifa turned her shot...   \n",
       "521    576  \\nHomeschooling families have not only thrived...   \n",
       "522    577  \\nAs the tech giants face growing scrutiny ove...   \n",
       "523    578  \\nParkland, Florida, gun control activist Davi...   \n",
       "524    579  \\nNearly two years into the Trump Takeover of ...   \n",
       "525    580  \\nThe chief White House economic adviser Monda...   \n",
       "526    581  \\nThis week, Republican lawmakers will shine n...   \n",
       "527    582  \\nTEL AVIV – Israel’s ambassador to the UN Dan...   \n",
       "528    583  \\nJohn Brennan, President Obama’s former CIA d...   \n",
       "529    584  \\nPresident Donald J. Trump questioned the act...   \n",
       "530    585  \\nPresident Donald J. Trump said that former C...   \n",
       "531    586  \\nThis year marks the hundred-year anniversary...   \n",
       "532    587  \\nTreasury Secretary Steven Mnuchin said Monda...   \n",
       "533    588  \\nFamily Guy creator Seth MacFarlane has donat...   \n",
       "534    589  \\nIslamic terrorists have massacred at least 4...   \n",
       "535    590  \\nTEL AVIV – Prime Minister Benjamin Netanyahu...   \n",
       "536    591  \\nLast week, reports indicated Stefan Halper, ...   \n",
       "537    592  \\nPresident Donald J. Trump signaled a victory...   \n",
       "538    593  \\nMark Penn — Hillary Clinton’s chief strategi...   \n",
       "539    594  \\nProPublica reports the Republican National C...   \n",
       "540    595  \\nWASHINGTON, DC — Over 100 conservative leade...   \n",
       "541    596  \\nFailed presidential candidate Hillary Clinto...   \n",
       "542    597  \\nTurkish President Recep Tayyip Erdoğan conde...   \n",
       "543    598  \\nJERUSALEM (AP) — The Palestinian president’s...   \n",
       "544    599  \\n(AFP) BEIRUT — At least 28 pro-government fi...   \n",
       "545    600  \\nCalifornia winemakers that have enjoyed an e...   \n",
       "546    601  \\nFormer Freedom Caucus Chairman Jim Jordan (R...   \n",
       "547    602  \\nU.S. Secretary of the Interior Ryan Zinke di...   \n",
       "548    603  \\nA contentious GOP convention to select the p...   \n",
       "549    604  \\nPresident Donald Trump’s attorney Rudy Giuli...   \n",
       "\n",
       "                                             sub_title  \\\n",
       "0    Adam Putnam, a self-described \"NRA sellout\" ru...   \n",
       "1    The bill would expand the list of those who ca...   \n",
       "2    The Asian country’s energy needs are growing a...   \n",
       "3    The president, who just unveiled new restricti...   \n",
       "4    The president hailed the Fox News pundit as a ...   \n",
       "5    Evgeny Freidman has been Cohen’s partner in th...   \n",
       "6    The upset comes after widespread teacher prote...   \n",
       "7    “It was sort of like a gift,\" Giuliani said of...   \n",
       "8    The GOP poverty agenda would expand the admini...   \n",
       "9    That percentage has barely budged since last y...   \n",
       "10   Add this to the long, ever-growing list of sca...   \n",
       "11   A publicly available 2017 assessment from the ...   \n",
       "12   Their agenda would steer $100 billion toward s...   \n",
       "13   Trump has asked the Justice Department to look...   \n",
       "14   The president is said to use a cellphone that ...   \n",
       "15   The contest between Stacey Abrams and Stacey E...   \n",
       "16   \"If you can't beat 'em, join 'em,\" Clinton sai...   \n",
       "17   The Justice Department responded by asking its...   \n",
       "18   The proposal would allow hunters to kill bear ...   \n",
       "19   Retired fighter pilot Amy McGrath’s upstart pr...   \n",
       "20   The president often talks about criminals that...   \n",
       "21                      \"Dear sir: THESE are animals.\"   \n",
       "22                        Has \"Melanie\" signed an NDA?   \n",
       "23   Season 2, Episode 6 is explosive ― and all abo...   \n",
       "24   Republicans have been demanding a look at docu...   \n",
       "25   \"A massive fraud, the evil sum of his deficien...   \n",
       "26                                   Under $1 million?   \n",
       "27   Teams can set their own policies for punishing...   \n",
       "28   \"When people see me -- a portly, soft-chinned ...   \n",
       "29   The outside groups can spend big to alter elec...   \n",
       "..                                                 ...   \n",
       "520  The telecommunications giant’s $85 billion mer...   \n",
       "521  The telecommunications giant’s $85 billion mer...   \n",
       "522  The telecommunications giant’s $85 billion mer...   \n",
       "523  The telecommunications giant’s $85 billion mer...   \n",
       "524  The telecommunications giant’s $85 billion mer...   \n",
       "525  The telecommunications giant’s $85 billion mer...   \n",
       "526  The telecommunications giant’s $85 billion mer...   \n",
       "527  The telecommunications giant’s $85 billion mer...   \n",
       "528  The telecommunications giant’s $85 billion mer...   \n",
       "529  The telecommunications giant’s $85 billion mer...   \n",
       "530  The telecommunications giant’s $85 billion mer...   \n",
       "531  The telecommunications giant’s $85 billion mer...   \n",
       "532  The telecommunications giant’s $85 billion mer...   \n",
       "533  The telecommunications giant’s $85 billion mer...   \n",
       "534  The telecommunications giant’s $85 billion mer...   \n",
       "535  The telecommunications giant’s $85 billion mer...   \n",
       "536  The telecommunications giant’s $85 billion mer...   \n",
       "537  The telecommunications giant’s $85 billion mer...   \n",
       "538  The telecommunications giant’s $85 billion mer...   \n",
       "539  The telecommunications giant’s $85 billion mer...   \n",
       "540  The telecommunications giant’s $85 billion mer...   \n",
       "541  The telecommunications giant’s $85 billion mer...   \n",
       "542  The telecommunications giant’s $85 billion mer...   \n",
       "543  The telecommunications giant’s $85 billion mer...   \n",
       "544  The telecommunications giant’s $85 billion mer...   \n",
       "545  The telecommunications giant’s $85 billion mer...   \n",
       "546  The telecommunications giant’s $85 billion mer...   \n",
       "547  The telecommunications giant’s $85 billion mer...   \n",
       "548  The telecommunications giant’s $85 billion mer...   \n",
       "549  The telecommunications giant’s $85 billion mer...   \n",
       "\n",
       "                                                 title  topic  \\\n",
       "0    Shoppers Boycott Publix Over Store's Donations...      1   \n",
       "1    California Moves To Let Schools, Co-workers 'R...      1   \n",
       "2    Vietnam Is A Test For What Happens When The U....      1   \n",
       "3    Trump Rallies Conservatives With Promise Of Mo...      1   \n",
       "4    Trump Praises Tomi Lahren After Restaurant Cro...      1   \n",
       "5    Report: Michael Cohen's Business Partner Coope...      1   \n",
       "6    High School Teacher Defeats Kentucky House Maj...      1   \n",
       "7    Giuliani’s New Stance On Russian Collusion: So...      1   \n",
       "8         Work Requirements Are Paperwork Requirements      1   \n",
       "9    Just One-Third Of Americans Think Trump Is Suc...      1   \n",
       "10   Reporter Shoved, Others Barred From EPA Meetin...      1   \n",
       "11   DHS Head Says She’s Still, Somehow, Unaware Of...      1   \n",
       "12   Democrats Want To Boost School Funding To Addr...      1   \n",
       "13   Ex-Trump Adviser Calls President’s Claims That...      1   \n",
       "14   Trump Reportedly Rejects Phone Security Measur...      1   \n",
       "15   Georgia Governor’s Primary Highlights Competin...      1   \n",
       "16   Hillary Clinton Tips A Russian Hat At Trump Du...      1   \n",
       "17   Trump Sets Up Showdown With DOJ Over Claims Of...      1   \n",
       "18   Trump Team Moves To Lift Ban On 'Extreme' Hunt...      1   \n",
       "19   Talking Grievance And Health Care, An Outsider...      1   \n",
       "20   Trump's ICE Is Increasingly Arresting Immigran...      1   \n",
       "21   Obama Photographer Taunts Donald Trump For Cal...      1   \n",
       "22   Trump Misspells Melania's Name In Welcome Home...      1   \n",
       "23   In 'The Handmaid's Tale,' The Road To Gilead I...      1   \n",
       "24   Democrats Weren't Invited To Review Classified...      1   \n",
       "25   Philip Roth Once Torched Donald Trump In The M...      1   \n",
       "26   Trevor Noah Reveals The Question He’d Ask Dona...      1   \n",
       "27        NFL Bans Kneeling During The National Anthem      1   \n",
       "28   'Late Night' Writer Vows To 'Take Red Hats Bac...      1   \n",
       "29   Super PACs That Meddled In West Virginia’s Sen...      1   \n",
       "..                                                 ...    ...   \n",
       "520  Ex-Pornstar Mia Khalifa Turns in Shotgun, Dona...      3   \n",
       "521          Homeschooling Thriving in Face of Attacks      3   \n",
       "522  Dr. Robert Epstein Releases Details on Project...      3   \n",
       "523  David Hogg: Deny Santa Fe Shooter Notoriety by...      3   \n",
       "524  Exclusive – Rep. Matt Gaetz: In FL Gov. Race, ...      3   \n",
       "525  Kudlow: Trade ‘Truce’ Doesn’t Mean We’re Backi...      3   \n",
       "526  GOP Lawmakers to File Resolution Detailing DOJ...      3   \n",
       "527  Israeli UN Envoy Urges Security Council to Rej...      3   \n",
       "528  Nolte: Ex-CIA Director John Brennan Threatens ...      3   \n",
       "529  Donald Trump: ‘Where in the World Was Barack O...      3   \n",
       "530  Donald Trump Goes to War with ‘Disgraced’ John...      3   \n",
       "531  Exclusive–Patrick K. O’Donnell: A Different Ki...      3   \n",
       "532  Mnuchin Says ‘The Team is Unified’ in China Tr...      3   \n",
       "533  ‘Family Guy’ Creator Seth MacFarlane Gives $2 ...      3   \n",
       "534  Ramadan Rage: Jihadists Kill 41, Injure 102 in...      3   \n",
       "535  Paraguay Becomes Third Country in a Week to Op...      3   \n",
       "536  Who Is Stefan Halper? Meet the ‘FBI Informant’...      3   \n",
       "537  Donald Trump Signals Victory with China as Tra...      3   \n",
       "538  Clintonista Mark Penn: Mueller Probe Exposed —...      3   \n",
       "539  GOP Sets Fundraising Record in April as Democr...      3   \n",
       "540  Conservative Leaders Call on Jim Jordan to Run...      3   \n",
       "541  Still Not Over It: Hillary Taunts Trump by Don...      3   \n",
       "542  Deliver an ‘Ottoman Slap’ in ‘Failing Europe’,...      3   \n",
       "543  Palestinian Authority President Mahmoud Abbas ...      3   \n",
       "544  Death Toll from Blasts at Syria Airbase Climbs...      3   \n",
       "545  U.S.-China Trade Deal to End Retaliatory Tarif...      3   \n",
       "546  Exclusive– Jim Jordan: Moderate and Conservati...      3   \n",
       "547  Zinke to Duke and Duchess of Sussex: How About...      3   \n",
       "548  Contentious GOP Convention in VA-6 Ends with M...      3   \n",
       "549  Giuliani: Mueller To Finish Probing Possible T...      3   \n",
       "\n",
       "              source  topic_model  \n",
       "0    Huffington Post            2  \n",
       "1    Huffington Post            2  \n",
       "2    Huffington Post            1  \n",
       "3    Huffington Post            2  \n",
       "4    Huffington Post            1  \n",
       "5    Huffington Post            0  \n",
       "6    Huffington Post            1  \n",
       "7    Huffington Post            2  \n",
       "8    Huffington Post            1  \n",
       "9    Huffington Post            2  \n",
       "10   Huffington Post            2  \n",
       "11   Huffington Post            0  \n",
       "12   Huffington Post            1  \n",
       "13   Huffington Post            0  \n",
       "14   Huffington Post            2  \n",
       "15   Huffington Post            1  \n",
       "16   Huffington Post            1  \n",
       "17   Huffington Post            0  \n",
       "18   Huffington Post            2  \n",
       "19   Huffington Post            1  \n",
       "20   Huffington Post            0  \n",
       "21   Huffington Post            0  \n",
       "22   Huffington Post            1  \n",
       "23   Huffington Post            2  \n",
       "24   Huffington Post            0  \n",
       "25   Huffington Post            2  \n",
       "26   Huffington Post            1  \n",
       "27   Huffington Post            2  \n",
       "28   Huffington Post            2  \n",
       "29   Huffington Post            1  \n",
       "..               ...          ...  \n",
       "520        Breitbart            1  \n",
       "521        Breitbart            1  \n",
       "522        Breitbart            1  \n",
       "523        Breitbart            1  \n",
       "524        Breitbart            1  \n",
       "525        Breitbart            0  \n",
       "526        Breitbart            0  \n",
       "527        Breitbart            0  \n",
       "528        Breitbart            0  \n",
       "529        Breitbart            0  \n",
       "530        Breitbart            0  \n",
       "531        Breitbart            2  \n",
       "532        Breitbart            0  \n",
       "533        Breitbart            1  \n",
       "534        Breitbart            1  \n",
       "535        Breitbart            0  \n",
       "536        Breitbart            0  \n",
       "537        Breitbart            0  \n",
       "538        Breitbart            0  \n",
       "539        Breitbart            1  \n",
       "540        Breitbart            1  \n",
       "541        Breitbart            0  \n",
       "542        Breitbart            0  \n",
       "543        Breitbart            0  \n",
       "544        Breitbart            0  \n",
       "545        Breitbart            0  \n",
       "546        Breitbart            1  \n",
       "547        Breitbart            1  \n",
       "548        Breitbart            1  \n",
       "549        Breitbart            0  \n",
       "\n",
       "[550 rows x 7 columns]"
      ]
     },
     "execution_count": 692,
     "metadata": {},
     "output_type": "execute_result"
    }
   ],
   "source": [
    "news_bias_df"
   ]
  },
  {
   "cell_type": "code",
   "execution_count": 693,
   "metadata": {},
   "outputs": [
    {
     "data": {
      "text/plain": [
       "array([2, 2, 1, 2, 1, 0, 1, 2, 1, 2, 2, 0, 1, 0, 2, 1, 1, 0, 2, 1, 0, 0,\n",
       "       1, 2, 0, 2, 1, 2, 2, 1, 2, 0, 1, 2, 2, 0, 2, 1, 1, 1, 2, 0, 0, 2,\n",
       "       0, 2, 0, 1, 2, 2, 2, 1, 2, 1, 0, 1, 2, 0, 2, 2, 1, 1, 2, 0, 2, 0,\n",
       "       0, 2, 0, 1, 2, 0, 2, 2, 1, 0, 1, 2, 2, 2, 1, 0, 0, 2, 1, 0, 0, 1,\n",
       "       2, 0, 2, 2, 1, 2, 2, 1, 0, 0, 1, 0, 0, 1, 1, 1, 2, 1, 1, 0, 1, 0,\n",
       "       0, 1, 1, 1, 2, 0, 1, 1, 0, 2, 2, 2, 0, 2, 2, 0, 1, 0, 0, 2, 0, 1,\n",
       "       1, 2, 0, 2, 2, 0, 0, 1, 1, 0, 2, 2, 2, 1, 2, 0, 0, 1, 0, 0, 0, 0,\n",
       "       0, 1, 0, 0, 0, 0, 0, 0, 2, 0, 0, 0, 0, 0, 1, 0, 1, 0, 1, 0, 1, 0,\n",
       "       0, 1, 0, 1, 0, 0, 0, 1, 2, 0, 1, 0, 0, 0, 0, 0, 0, 0, 0, 0, 0, 0,\n",
       "       0, 2, 0, 0, 0, 0, 0, 1, 0, 0, 0, 0, 0, 0, 0, 0, 0, 0, 0, 0, 1, 0,\n",
       "       1, 0, 0, 0, 0, 0, 0, 0, 1, 0, 0, 0, 0, 0, 0, 0, 0, 0, 0, 0, 1, 0,\n",
       "       0, 0, 0, 0, 0, 0, 0, 0, 0, 1, 0, 0, 0, 0, 0, 0, 0, 0, 0, 0, 0, 0,\n",
       "       0, 0, 0, 0, 0, 0, 0, 0, 1, 0, 0, 0, 0, 0, 0, 0, 0, 0, 0, 0, 0, 0,\n",
       "       0, 0, 1, 0, 0, 0, 0, 0, 0, 0, 0, 0, 0, 0, 1, 0, 0, 0, 0, 0, 0, 0,\n",
       "       0, 1, 0, 0, 0, 0, 0, 0, 0, 0, 0, 0, 0, 0, 1, 0, 1, 0, 0, 0, 0, 1,\n",
       "       0, 0, 0, 0, 0, 0, 0, 0, 0, 0, 0, 0, 0, 0, 0, 0, 0, 0, 0, 0, 0, 0,\n",
       "       0, 0, 1, 0, 0, 0, 0, 0, 0, 0, 0, 0, 0, 0, 0, 0, 0, 1, 1, 1, 0, 1,\n",
       "       0, 0, 0, 1, 1, 2, 0, 2, 0, 1, 1, 1, 0, 1, 1, 1, 0, 0, 0, 1, 0, 1,\n",
       "       1, 2, 0, 0, 1, 2, 1, 1, 0, 1, 0, 2, 2, 0, 1, 1, 0, 1, 0, 0, 1, 2,\n",
       "       0, 2, 1, 2, 0, 1, 0, 0, 0, 0, 1, 1, 1, 0, 1, 1, 0, 1, 0, 0, 0, 0,\n",
       "       1, 0, 1, 0, 0, 2, 0, 1, 1, 0, 1, 1, 1, 0, 0, 0, 2, 1, 1, 1, 0, 0,\n",
       "       0, 1, 0, 0, 0, 0, 1, 0, 0, 0, 0, 1, 0, 0, 1, 0, 0, 0, 0, 0, 0, 1,\n",
       "       1, 1, 0, 0, 1, 1, 0, 0, 0, 1, 2, 0, 0, 0, 1, 0, 0, 0, 2, 0, 1, 1,\n",
       "       0, 1, 0, 0, 1, 1, 1, 1, 1, 0, 0, 0, 0, 0, 1, 1, 1, 1, 1, 0, 0, 0,\n",
       "       0, 0, 0, 2, 0, 1, 1, 0, 0, 0, 0, 1, 1, 0, 0, 0, 0, 0, 1, 1, 1, 0],\n",
       "      dtype=int32)"
      ]
     },
     "execution_count": 693,
     "metadata": {},
     "output_type": "execute_result"
    }
   ],
   "source": [
    "clusts"
   ]
  },
  {
   "cell_type": "code",
   "execution_count": 694,
   "metadata": {},
   "outputs": [
    {
     "data": {
      "text/plain": [
       "0    334\n",
       "1    143\n",
       "2     73\n",
       "Name: topic_model, dtype: int64"
      ]
     },
     "execution_count": 694,
     "metadata": {},
     "output_type": "execute_result"
    }
   ],
   "source": [
    "news_bias_df.topic_model.value_counts()"
   ]
  },
  {
   "cell_type": "code",
   "execution_count": 57,
   "metadata": {},
   "outputs": [],
   "source": [
    "source_df = news_bias_df.groupby(['topic']).topic_model"
   ]
  },
  {
   "cell_type": "code",
   "execution_count": 58,
   "metadata": {},
   "outputs": [
    {
     "data": {
      "text/plain": [
       "<pandas.core.groupby.SeriesGroupBy object at 0x1a17a22278>"
      ]
     },
     "execution_count": 58,
     "metadata": {},
     "output_type": "execute_result"
    }
   ],
   "source": [
    "source_df"
   ]
  },
  {
   "cell_type": "code",
   "execution_count": 59,
   "metadata": {},
   "outputs": [
    {
     "name": "stderr",
     "output_type": "stream",
     "text": [
      "/Users/NickThomas/Desktop/anaconda/lib/python3.6/site-packages/sklearn/cross_validation.py:41: DeprecationWarning: This module was deprecated in version 0.18 in favor of the model_selection module into which all the refactored classes and functions are moved. Also note that the interface of the new CV iterators are different from that of this module. This module will be removed in 0.20.\n",
      "  \"This module will be removed in 0.20.\", DeprecationWarning)\n"
     ]
    }
   ],
   "source": [
    "from sklearn.cross_validation import train_test_split\n",
    "\n",
    "\n",
    "X = news_bias_df.topic_model\n",
    "y = news_bias_df.source\n",
    "X_train, X_test, y_train, y_test = train_test_split(X, y, test_size=0.2) "
   ]
  },
  {
   "cell_type": "code",
   "execution_count": 60,
   "metadata": {},
   "outputs": [
    {
     "name": "stdout",
     "output_type": "stream",
     "text": [
      "0.5727272727272728\n",
      "0.6090909090909091\n"
     ]
    },
    {
     "name": "stderr",
     "output_type": "stream",
     "text": [
      "/Users/NickThomas/Desktop/anaconda/lib/python3.6/site-packages/ipykernel_launcher.py:3: FutureWarning: reshape is deprecated and will raise in a subsequent release. Please use .values.reshape(...) instead\n",
      "  This is separate from the ipykernel package so we can avoid doing imports until\n",
      "/Users/NickThomas/Desktop/anaconda/lib/python3.6/site-packages/ipykernel_launcher.py:4: FutureWarning: reshape is deprecated and will raise in a subsequent release. Please use .values.reshape(...) instead\n",
      "  after removing the cwd from sys.path.\n"
     ]
    }
   ],
   "source": [
    "from sklearn.linear_model import LogisticRegression\n",
    "\n",
    "X_train = X_train.reshape(-1,1)\n",
    "X_test = X_test.reshape(-1,1)\n",
    "\n",
    "lm2 = LogisticRegression(C=1000)\n",
    "lm2.fit(X_train, y_train)\n",
    "print(lm2.score(X_train, y_train))\n",
    "print(lm2.score(X_test, y_test))\n"
   ]
  },
  {
   "cell_type": "code",
   "execution_count": 61,
   "metadata": {},
   "outputs": [
    {
     "data": {
      "text/plain": [
       "0.5363636363636364"
      ]
     },
     "execution_count": 61,
     "metadata": {},
     "output_type": "execute_result"
    }
   ],
   "source": [
    "from sklearn.neighbors import KNeighborsClassifier\n",
    "\n",
    "X_train = X_train.reshape(-1,1)\n",
    "X_test = X_test.reshape(-1,1)\n",
    "knn2 = KNeighborsClassifier(n_neighbors=5)\n",
    "knn2.fit(X_train, y_train)\n",
    "knn2.score(X_test, y_test)"
   ]
  },
  {
   "cell_type": "code",
   "execution_count": 62,
   "metadata": {},
   "outputs": [
    {
     "data": {
      "text/plain": [
       "['Rueters',\n",
       " 'Huffington Post',\n",
       " 'Huffington Post',\n",
       " 'Huffington Post',\n",
       " 'Huffington Post',\n",
       " 'Huffington Post',\n",
       " 'Huffington Post',\n",
       " 'Huffington Post',\n",
       " 'Huffington Post',\n",
       " 'Huffington Post',\n",
       " 'Huffington Post',\n",
       " 'Huffington Post',\n",
       " 'Huffington Post',\n",
       " 'Huffington Post',\n",
       " 'Huffington Post',\n",
       " 'Huffington Post',\n",
       " 'Huffington Post',\n",
       " 'Huffington Post',\n",
       " 'Huffington Post',\n",
       " 'Huffington Post',\n",
       " 'Huffington Post',\n",
       " 'Huffington Post',\n",
       " 'Huffington Post',\n",
       " 'Huffington Post',\n",
       " 'Huffington Post',\n",
       " 'Huffington Post',\n",
       " 'Huffington Post',\n",
       " 'Huffington Post',\n",
       " 'Huffington Post',\n",
       " 'Huffington Post',\n",
       " 'Huffington Post',\n",
       " 'Huffington Post',\n",
       " 'Huffington Post',\n",
       " 'Huffington Post',\n",
       " 'Huffington Post',\n",
       " 'Huffington Post',\n",
       " 'Huffington Post',\n",
       " 'Huffington Post',\n",
       " 'Huffington Post',\n",
       " 'Huffington Post',\n",
       " 'Huffington Post',\n",
       " 'Huffington Post',\n",
       " 'Huffington Post',\n",
       " 'Huffington Post',\n",
       " 'Huffington Post',\n",
       " 'Huffington Post',\n",
       " 'Huffington Post',\n",
       " 'Huffington Post',\n",
       " 'Huffington Post',\n",
       " 'Huffington Post',\n",
       " 'Huffington Post',\n",
       " 'Huffington Post',\n",
       " 'Huffington Post',\n",
       " 'Huffington Post',\n",
       " 'Huffington Post',\n",
       " 'Huffington Post',\n",
       " 'Huffington Post',\n",
       " 'Huffington Post',\n",
       " 'Huffington Post',\n",
       " 'Huffington Post',\n",
       " 'Huffington Post',\n",
       " 'Huffington Post',\n",
       " 'Huffington Post',\n",
       " 'Huffington Post',\n",
       " 'Huffington Post',\n",
       " 'Huffington Post',\n",
       " 'Huffington Post',\n",
       " 'Huffington Post',\n",
       " 'Huffington Post',\n",
       " 'Huffington Post',\n",
       " 'Huffington Post',\n",
       " 'Huffington Post',\n",
       " 'Huffington Post',\n",
       " 'Huffington Post',\n",
       " 'Huffington Post',\n",
       " 'Huffington Post',\n",
       " 'Huffington Post',\n",
       " 'Huffington Post',\n",
       " 'Huffington Post',\n",
       " 'Huffington Post',\n",
       " 'Huffington Post',\n",
       " 'Huffington Post',\n",
       " 'Huffington Post',\n",
       " 'Huffington Post',\n",
       " 'Huffington Post',\n",
       " 'Huffington Post',\n",
       " 'Huffington Post',\n",
       " 'Huffington Post',\n",
       " 'Huffington Post',\n",
       " 'Huffington Post',\n",
       " 'Huffington Post',\n",
       " 'Huffington Post',\n",
       " 'Huffington Post',\n",
       " 'Huffington Post',\n",
       " 'Huffington Post',\n",
       " 'Huffington Post',\n",
       " 'Huffington Post',\n",
       " 'Huffington Post',\n",
       " 'Huffington Post',\n",
       " 'Huffington Post',\n",
       " 'Huffington Post',\n",
       " 'Huffington Post',\n",
       " 'Huffington Post',\n",
       " 'Huffington Post',\n",
       " 'Huffington Post',\n",
       " 'Huffington Post',\n",
       " 'Huffington Post',\n",
       " 'Huffington Post',\n",
       " 'Huffington Post',\n",
       " 'Huffington Post',\n",
       " 'Huffington Post',\n",
       " 'Huffington Post',\n",
       " 'Huffington Post',\n",
       " 'Huffington Post',\n",
       " 'Huffington Post',\n",
       " 'Huffington Post',\n",
       " 'Huffington Post',\n",
       " 'Huffington Post',\n",
       " 'Huffington Post',\n",
       " 'Huffington Post',\n",
       " 'Huffington Post',\n",
       " 'Huffington Post',\n",
       " 'Huffington Post',\n",
       " 'Huffington Post',\n",
       " 'Huffington Post',\n",
       " 'Huffington Post',\n",
       " 'Huffington Post',\n",
       " 'Huffington Post',\n",
       " 'Huffington Post',\n",
       " 'Huffington Post',\n",
       " 'Huffington Post',\n",
       " 'Huffington Post',\n",
       " 'Huffington Post',\n",
       " 'Huffington Post',\n",
       " 'Huffington Post',\n",
       " 'Huffington Post',\n",
       " 'Huffington Post',\n",
       " 'Huffington Post',\n",
       " 'Huffington Post',\n",
       " 'Huffington Post',\n",
       " 'Huffington Post',\n",
       " 'Huffington Post',\n",
       " 'Huffington Post',\n",
       " 'Huffington Post',\n",
       " 'Huffington Post',\n",
       " 'Huffington Post',\n",
       " 'Huffington Post',\n",
       " 'Huffington Post',\n",
       " 'Huffington Post',\n",
       " 'Huffington Post',\n",
       " 'Huffington Post',\n",
       " 'Huffington Post',\n",
       " 'Huffington Post',\n",
       " 'Huffington Post',\n",
       " 'Huffington Post',\n",
       " 'Huffington Post',\n",
       " 'Huffington Post',\n",
       " 'Huffington Post',\n",
       " 'Huffington Post',\n",
       " 'Huffington Post',\n",
       " 'Huffington Post',\n",
       " 'Huffington Post',\n",
       " 'Huffington Post',\n",
       " 'Huffington Post',\n",
       " 'Huffington Post',\n",
       " 'Huffington Post',\n",
       " 'Huffington Post',\n",
       " 'Huffington Post',\n",
       " 'Huffington Post',\n",
       " 'Huffington Post',\n",
       " 'Huffington Post',\n",
       " 'Huffington Post',\n",
       " 'Huffington Post',\n",
       " 'Huffington Post',\n",
       " 'Huffington Post',\n",
       " 'Huffington Post',\n",
       " 'Huffington Post',\n",
       " 'Huffington Post',\n",
       " 'Huffington Post',\n",
       " 'Huffington Post',\n",
       " 'Huffington Post',\n",
       " 'Huffington Post',\n",
       " 'Huffington Post',\n",
       " 'Huffington Post',\n",
       " 'Huffington Post',\n",
       " 'Huffington Post',\n",
       " 'Huffington Post',\n",
       " 'Huffington Post',\n",
       " 'Huffington Post',\n",
       " 'Huffington Post',\n",
       " 'Huffington Post',\n",
       " 'Huffington Post',\n",
       " 'Huffington Post',\n",
       " 'Huffington Post',\n",
       " 'Huffington Post',\n",
       " 'Huffington Post',\n",
       " 'Huffington Post',\n",
       " 'Huffington Post',\n",
       " 'Huffington Post',\n",
       " 'Huffington Post',\n",
       " 'Huffington Post',\n",
       " 'Huffington Post',\n",
       " 'Huffington Post',\n",
       " 'Huffington Post',\n",
       " 'Huffington Post',\n",
       " 'Huffington Post',\n",
       " 'Huffington Post',\n",
       " 'Huffington Post',\n",
       " 'Huffington Post',\n",
       " 'Huffington Post',\n",
       " 'Huffington Post',\n",
       " 'Huffington Post',\n",
       " 'Huffington Post',\n",
       " 'Huffington Post',\n",
       " 'Huffington Post',\n",
       " 'Huffington Post',\n",
       " 'Huffington Post',\n",
       " 'Huffington Post',\n",
       " 'Huffington Post',\n",
       " 'Huffington Post',\n",
       " 'Huffington Post',\n",
       " 'Huffington Post',\n",
       " 'Huffington Post',\n",
       " 'Huffington Post',\n",
       " 'Huffington Post',\n",
       " 'Huffington Post',\n",
       " 'Huffington Post',\n",
       " 'Huffington Post',\n",
       " 'Huffington Post',\n",
       " 'Huffington Post',\n",
       " 'Huffington Post',\n",
       " 'Huffington Post',\n",
       " 'Huffington Post',\n",
       " 'Huffington Post',\n",
       " 'Huffington Post',\n",
       " 'Huffington Post',\n",
       " 'Huffington Post',\n",
       " 'Huffington Post',\n",
       " 'Huffington Post',\n",
       " 'Huffington Post',\n",
       " 'Huffington Post',\n",
       " 'Huffington Post',\n",
       " 'Huffington Post',\n",
       " 'Huffington Post',\n",
       " 'Huffington Post',\n",
       " 'Huffington Post',\n",
       " 'Huffington Post',\n",
       " 'Huffington Post',\n",
       " 'Huffington Post',\n",
       " 'Huffington Post',\n",
       " 'Huffington Post',\n",
       " 'Huffington Post',\n",
       " 'Huffington Post',\n",
       " 'Huffington Post',\n",
       " 'Huffington Post',\n",
       " 'Huffington Post',\n",
       " 'Huffington Post',\n",
       " 'Huffington Post',\n",
       " 'Huffington Post',\n",
       " 'Huffington Post',\n",
       " 'Huffington Post',\n",
       " 'Huffington Post',\n",
       " 'Huffington Post',\n",
       " 'Huffington Post',\n",
       " 'Huffington Post',\n",
       " 'Huffington Post',\n",
       " 'Huffington Post',\n",
       " 'Huffington Post',\n",
       " 'Huffington Post',\n",
       " 'Huffington Post',\n",
       " 'Huffington Post',\n",
       " 'Huffington Post',\n",
       " 'Huffington Post',\n",
       " 'Huffington Post',\n",
       " 'Huffington Post',\n",
       " 'Huffington Post',\n",
       " 'Huffington Post',\n",
       " 'Huffington Post',\n",
       " 'Huffington Post',\n",
       " 'Huffington Post',\n",
       " 'Huffington Post',\n",
       " 'Huffington Post',\n",
       " 'Huffington Post',\n",
       " 'Huffington Post',\n",
       " 'Huffington Post',\n",
       " 'Huffington Post',\n",
       " 'Huffington Post',\n",
       " 'Huffington Post',\n",
       " 'Huffington Post',\n",
       " 'Huffington Post',\n",
       " 'Huffington Post',\n",
       " 'Huffington Post',\n",
       " 'Huffington Post',\n",
       " 'Huffington Post',\n",
       " 'Huffington Post',\n",
       " 'Huffington Post',\n",
       " 'Huffington Post',\n",
       " 'Huffington Post',\n",
       " 'Huffington Post',\n",
       " 'Huffington Post',\n",
       " 'Huffington Post',\n",
       " 'Huffington Post',\n",
       " 'Huffington Post',\n",
       " 'Huffington Post',\n",
       " 'Huffington Post',\n",
       " 'Huffington Post',\n",
       " 'Huffington Post',\n",
       " 'Huffington Post',\n",
       " 'Huffington Post',\n",
       " 'Huffington Post',\n",
       " 'Huffington Post',\n",
       " 'Huffington Post',\n",
       " 'Huffington Post',\n",
       " 'Huffington Post',\n",
       " 'Huffington Post',\n",
       " 'Huffington Post',\n",
       " 'Huffington Post',\n",
       " 'Huffington Post',\n",
       " 'Huffington Post',\n",
       " 'Huffington Post',\n",
       " 'Huffington Post',\n",
       " 'Huffington Post',\n",
       " 'Huffington Post',\n",
       " 'Huffington Post',\n",
       " 'Huffington Post',\n",
       " 'Huffington Post',\n",
       " 'Huffington Post',\n",
       " 'Huffington Post',\n",
       " 'Huffington Post',\n",
       " 'Huffington Post',\n",
       " 'Huffington Post',\n",
       " 'Huffington Post',\n",
       " 'Huffington Post',\n",
       " 'Huffington Post',\n",
       " 'Huffington Post',\n",
       " 'Huffington Post',\n",
       " 'Huffington Post',\n",
       " 'Huffington Post',\n",
       " 'Huffington Post',\n",
       " 'Huffington Post',\n",
       " 'Huffington Post',\n",
       " 'Huffington Post',\n",
       " 'Huffington Post',\n",
       " 'Huffington Post',\n",
       " 'Huffington Post',\n",
       " 'Huffington Post',\n",
       " 'Huffington Post',\n",
       " 'Huffington Post',\n",
       " 'Huffington Post',\n",
       " 'Huffington Post',\n",
       " 'Huffington Post',\n",
       " 'Huffington Post',\n",
       " 'Huffington Post',\n",
       " 'Huffington Post',\n",
       " 'Huffington Post',\n",
       " 'Huffington Post',\n",
       " 'Huffington Post',\n",
       " 'Huffington Post',\n",
       " 'Huffington Post',\n",
       " 'Huffington Post',\n",
       " 'Huffington Post',\n",
       " 'Huffington Post',\n",
       " 'Huffington Post',\n",
       " 'Huffington Post',\n",
       " 'Huffington Post',\n",
       " 'Huffington Post',\n",
       " 'Huffington Post',\n",
       " 'Huffington Post',\n",
       " 'Huffington Post',\n",
       " 'Huffington Post',\n",
       " 'Huffington Post',\n",
       " 'Huffington Post',\n",
       " 'Huffington Post',\n",
       " 'Huffington Post',\n",
       " 'Huffington Post',\n",
       " 'Huffington Post',\n",
       " 'Huffington Post',\n",
       " 'Huffington Post',\n",
       " 'Huffington Post',\n",
       " 'Huffington Post',\n",
       " 'Huffington Post',\n",
       " 'Huffington Post',\n",
       " 'Huffington Post',\n",
       " 'Huffington Post',\n",
       " 'Huffington Post',\n",
       " 'Huffington Post',\n",
       " 'Huffington Post',\n",
       " 'Huffington Post',\n",
       " 'Huffington Post',\n",
       " 'Huffington Post',\n",
       " 'Huffington Post',\n",
       " 'Huffington Post',\n",
       " 'Huffington Post',\n",
       " 'Huffington Post',\n",
       " 'Huffington Post',\n",
       " 'Huffington Post',\n",
       " 'Huffington Post',\n",
       " 'Huffington Post',\n",
       " 'Huffington Post',\n",
       " 'Huffington Post',\n",
       " 'Huffington Post',\n",
       " 'Huffington Post',\n",
       " 'Huffington Post',\n",
       " 'Huffington Post',\n",
       " 'Huffington Post',\n",
       " 'Huffington Post',\n",
       " 'Huffington Post',\n",
       " 'Huffington Post',\n",
       " 'Huffington Post',\n",
       " 'Huffington Post',\n",
       " 'Huffington Post',\n",
       " 'Huffington Post',\n",
       " 'Huffington Post',\n",
       " 'Huffington Post',\n",
       " 'Huffington Post',\n",
       " 'Huffington Post',\n",
       " 'Huffington Post',\n",
       " 'Huffington Post',\n",
       " 'Huffington Post',\n",
       " 'Huffington Post',\n",
       " 'Huffington Post',\n",
       " 'Huffington Post',\n",
       " 'Huffington Post',\n",
       " 'Huffington Post',\n",
       " 'Huffington Post',\n",
       " 'Huffington Post',\n",
       " 'Huffington Post',\n",
       " 'Huffington Post',\n",
       " 'Huffington Post',\n",
       " 'Huffington Post',\n",
       " 'Huffington Post',\n",
       " 'Huffington Post',\n",
       " 'Huffington Post',\n",
       " 'Huffington Post',\n",
       " 'Huffington Post',\n",
       " 'Huffington Post',\n",
       " 'Huffington Post',\n",
       " 'Huffington Post',\n",
       " 'Huffington Post',\n",
       " 'Huffington Post',\n",
       " 'Huffington Post',\n",
       " 'Huffington Post',\n",
       " 'Huffington Post',\n",
       " 'Huffington Post',\n",
       " 'Huffington Post',\n",
       " 'Huffington Post',\n",
       " 'Huffington Post',\n",
       " 'Huffington Post',\n",
       " 'Huffington Post',\n",
       " 'Huffington Post',\n",
       " 'Huffington Post',\n",
       " 'Huffington Post',\n",
       " 'Huffington Post',\n",
       " 'Huffington Post',\n",
       " 'Huffington Post',\n",
       " 'Huffington Post',\n",
       " 'Huffington Post',\n",
       " 'Huffington Post',\n",
       " 'Huffington Post',\n",
       " 'Huffington Post',\n",
       " 'Huffington Post',\n",
       " 'Huffington Post',\n",
       " 'Huffington Post',\n",
       " 'Huffington Post',\n",
       " 'Huffington Post',\n",
       " 'Huffington Post',\n",
       " 'Huffington Post',\n",
       " 'Huffington Post',\n",
       " 'Huffington Post',\n",
       " 'Huffington Post',\n",
       " 'Huffington Post',\n",
       " 'Huffington Post',\n",
       " 'Huffington Post',\n",
       " 'Huffington Post',\n",
       " 'Huffington Post',\n",
       " 'Huffington Post',\n",
       " 'Huffington Post',\n",
       " 'Huffington Post',\n",
       " 'Huffington Post',\n",
       " 'Huffington Post',\n",
       " 'Huffington Post',\n",
       " 'Huffington Post',\n",
       " 'Huffington Post',\n",
       " 'Huffington Post',\n",
       " 'Huffington Post',\n",
       " 'Huffington Post',\n",
       " 'Huffington Post',\n",
       " 'Huffington Post',\n",
       " 'Huffington Post',\n",
       " 'Huffington Post',\n",
       " 'Huffington Post',\n",
       " 'Huffington Post',\n",
       " 'Huffington Post',\n",
       " 'Huffington Post',\n",
       " 'Huffington Post',\n",
       " 'Huffington Post',\n",
       " 'Huffington Post',\n",
       " 'Huffington Post',\n",
       " 'Huffington Post',\n",
       " 'Huffington Post',\n",
       " 'Huffington Post',\n",
       " 'Huffington Post',\n",
       " 'Huffington Post',\n",
       " 'Huffington Post',\n",
       " 'Huffington Post',\n",
       " 'Huffington Post',\n",
       " 'Huffington Post',\n",
       " 'Huffington Post',\n",
       " 'Huffington Post',\n",
       " 'Huffington Post',\n",
       " 'Huffington Post',\n",
       " 'Huffington Post',\n",
       " 'Huffington Post',\n",
       " 'Huffington Post',\n",
       " 'Huffington Post',\n",
       " 'Huffington Post',\n",
       " 'Huffington Post',\n",
       " 'Huffington Post',\n",
       " 'Huffington Post',\n",
       " 'Huffington Post',\n",
       " 'Huffington Post',\n",
       " 'Huffington Post',\n",
       " 'Huffington Post',\n",
       " 'Huffington Post',\n",
       " 'Huffington Post',\n",
       " 'Huffington Post',\n",
       " 'Huffington Post',\n",
       " 'Huffington Post',\n",
       " 'Huffington Post',\n",
       " 'Huffington Post',\n",
       " 'Huffington Post',\n",
       " 'Huffington Post',\n",
       " 'Huffington Post',\n",
       " 'Huffington Post',\n",
       " 'Huffington Post',\n",
       " 'Huffington Post',\n",
       " 'Huffington Post',\n",
       " 'Huffington Post',\n",
       " 'Huffington Post',\n",
       " 'Huffington Post',\n",
       " 'Huffington Post',\n",
       " 'Huffington Post',\n",
       " 'Huffington Post',\n",
       " 'Huffington Post',\n",
       " 'Huffington Post',\n",
       " 'Huffington Post',\n",
       " 'Huffington Post',\n",
       " 'Huffington Post',\n",
       " 'Huffington Post']"
      ]
     },
     "execution_count": 62,
     "metadata": {},
     "output_type": "execute_result"
    }
   ],
   "source": [
    "values = []\n",
    "for x in range(1, 550):\n",
    "    values.append(lm2.predict(x)[0])\n",
    "values"
   ]
  },
  {
   "cell_type": "code",
   "execution_count": 63,
   "metadata": {},
   "outputs": [
    {
     "data": {
      "text/plain": [
       "array([[9.28576071e-135, 5.00000000e-001, 5.00000000e-001]])"
      ]
     },
     "execution_count": 63,
     "metadata": {},
     "output_type": "execute_result"
    }
   ],
   "source": [
    "lm2.predict_proba(440)"
   ]
  },
  {
   "cell_type": "code",
   "execution_count": 695,
   "metadata": {},
   "outputs": [
    {
     "data": {
      "text/plain": [
       "0    334\n",
       "1    143\n",
       "2     73\n",
       "Name: topic_model, dtype: int64"
      ]
     },
     "execution_count": 695,
     "metadata": {},
     "output_type": "execute_result"
    }
   ],
   "source": [
    "news_bias_df.topic_model.value_counts()"
   ]
  },
  {
   "cell_type": "code",
   "execution_count": 149,
   "metadata": {},
   "outputs": [],
   "source": [
    "huffpo = news_bias_df['topic_model'] == 0\n",
    "reuters = news_bias_df['topic_model'] == 1\n",
    "brietbart = news_bias_df['topic_model'] == 2\n",
    "Extremes = news_bias_df['topic'] != 2\n",
    "\n",
    "topic_1 = news_bias_df[huffpo]\n",
    "topic_2 = news_bias_df[reuters]\n",
    "topic_3 = news_bias_df[brietbart]\n",
    "Extremes_df = news_bias_df[Extremes]"
   ]
  },
  {
   "cell_type": "code",
   "execution_count": 595,
   "metadata": {},
   "outputs": [
    {
     "data": {
      "text/plain": [
       "Rueters            192\n",
       "Breitbart           95\n",
       "Huffington Post     46\n",
       "Name: source, dtype: int64"
      ]
     },
     "execution_count": 595,
     "metadata": {},
     "output_type": "execute_result"
    }
   ],
   "source": [
    "topic_2.source.value_counts()"
   ]
  },
  {
   "cell_type": "code",
   "execution_count": 696,
   "metadata": {},
   "outputs": [
    {
     "data": {
      "text/html": [
       "<div>\n",
       "<style scoped>\n",
       "    .dataframe tbody tr th:only-of-type {\n",
       "        vertical-align: middle;\n",
       "    }\n",
       "\n",
       "    .dataframe tbody tr th {\n",
       "        vertical-align: top;\n",
       "    }\n",
       "\n",
       "    .dataframe thead th {\n",
       "        text-align: right;\n",
       "    }\n",
       "</style>\n",
       "<table border=\"1\" class=\"dataframe\">\n",
       "  <thead>\n",
       "    <tr style=\"text-align: right;\">\n",
       "      <th>topic_model</th>\n",
       "      <th>0</th>\n",
       "      <th>1</th>\n",
       "      <th>2</th>\n",
       "    </tr>\n",
       "    <tr>\n",
       "      <th>source</th>\n",
       "      <th></th>\n",
       "      <th></th>\n",
       "      <th></th>\n",
       "    </tr>\n",
       "  </thead>\n",
       "  <tbody>\n",
       "    <tr>\n",
       "      <th>Breitbart</th>\n",
       "      <td>95</td>\n",
       "      <td>71</td>\n",
       "      <td>14</td>\n",
       "    </tr>\n",
       "    <tr>\n",
       "      <th>Huffington Post</th>\n",
       "      <td>47</td>\n",
       "      <td>48</td>\n",
       "      <td>56</td>\n",
       "    </tr>\n",
       "    <tr>\n",
       "      <th>Rueters</th>\n",
       "      <td>192</td>\n",
       "      <td>24</td>\n",
       "      <td>3</td>\n",
       "    </tr>\n",
       "  </tbody>\n",
       "</table>\n",
       "</div>"
      ],
      "text/plain": [
       "topic_model        0   1   2\n",
       "source                      \n",
       "Breitbart         95  71  14\n",
       "Huffington Post   47  48  56\n",
       "Rueters          192  24   3"
      ]
     },
     "execution_count": 696,
     "metadata": {},
     "output_type": "execute_result"
    }
   ],
   "source": [
    "#?pd.DataFrame.pivot_table\n",
    "news_bias_df[['source','topic_model']].pivot_table(index='source', columns='topic_model', aggfunc=len)"
   ]
  },
  {
   "cell_type": "code",
   "execution_count": 67,
   "metadata": {},
   "outputs": [
    {
     "name": "stdout",
     "output_type": "stream",
     "text": [
      "r unique: [1 0 2]\n",
      "b unique: [0 1 2]\n"
     ]
    }
   ],
   "source": [
    "print(\"r unique:\", reuters_df.topic_model.unique())\n",
    "print(\"b unique:\", brietbart_df.topic_model.unique())\n"
   ]
  },
  {
   "cell_type": "code",
   "execution_count": 68,
   "metadata": {},
   "outputs": [
    {
     "name": "stdout",
     "output_type": "stream",
     "text": [
      "Topic  1\n",
      "window amp adsdiv function typeof amp amp gun case break typeof window adid like percent say year new women window origadsplid origadsplid undefined\n",
      "Topic  2\n",
      "republican state democrat hous year vote breitbart news nation american support elect million new make peopl like school work polit\n",
      "Topic  3\n",
      "state campaign china hous washington iran north reuters new deal offici investig korea fbi unit senat intellig time presid donald nation\n"
     ]
    }
   ],
   "source": [
    "def display_topics(model, feature_names, no_top_words):\n",
    "    for ix, topic in enumerate(model.components_):\n",
    "        print(\"Topic \", ix+1)\n",
    "        print(\" \".join([feature_names[i]\n",
    "                        for i in topic.argsort()[:-no_top_words - 1:-1]]))\n",
    "        \n",
    "display_topics(lda,count_vectorizer2.get_feature_names(),20)"
   ]
  },
  {
   "cell_type": "code",
   "execution_count": 69,
   "metadata": {},
   "outputs": [],
   "source": [
    "news_bias_df = news_bias_df.reset_index()"
   ]
  },
  {
   "cell_type": "code",
   "execution_count": 207,
   "metadata": {},
   "outputs": [
    {
     "data": {
      "text/html": [
       "<div>\n",
       "<style scoped>\n",
       "    .dataframe tbody tr th:only-of-type {\n",
       "        vertical-align: middle;\n",
       "    }\n",
       "\n",
       "    .dataframe tbody tr th {\n",
       "        vertical-align: top;\n",
       "    }\n",
       "\n",
       "    .dataframe thead th {\n",
       "        text-align: right;\n",
       "    }\n",
       "</style>\n",
       "<table border=\"1\" class=\"dataframe\">\n",
       "  <thead>\n",
       "    <tr style=\"text-align: right;\">\n",
       "      <th></th>\n",
       "      <th>index</th>\n",
       "      <th>body</th>\n",
       "      <th>sub_title</th>\n",
       "      <th>title</th>\n",
       "      <th>topic</th>\n",
       "      <th>source</th>\n",
       "      <th>topic_model</th>\n",
       "    </tr>\n",
       "  </thead>\n",
       "  <tbody>\n",
       "    <tr>\n",
       "      <th>5</th>\n",
       "      <td>5</td>\n",
       "      <td>\\nA business partner of U.S. President Donald ...</td>\n",
       "      <td>Evgeny Freidman has been Cohen’s partner in th...</td>\n",
       "      <td>Report: Michael Cohen's Business Partner Coope...</td>\n",
       "      <td>1</td>\n",
       "      <td>Huffington Post</td>\n",
       "      <td>1</td>\n",
       "    </tr>\n",
       "    <tr>\n",
       "      <th>11</th>\n",
       "      <td>13</td>\n",
       "      <td>\\nHomeland Security Secretary Kirstjen Nielsen...</td>\n",
       "      <td>A publicly available 2017 assessment from the ...</td>\n",
       "      <td>DHS Head Says She’s Still, Somehow, Unaware Of...</td>\n",
       "      <td>1</td>\n",
       "      <td>Huffington Post</td>\n",
       "      <td>1</td>\n",
       "    </tr>\n",
       "    <tr>\n",
       "      <th>13</th>\n",
       "      <td>15</td>\n",
       "      <td>\\nA former adviser to President Donald Trump o...</td>\n",
       "      <td>Trump has asked the Justice Department to look...</td>\n",
       "      <td>Ex-Trump Adviser Calls President’s Claims That...</td>\n",
       "      <td>1</td>\n",
       "      <td>Huffington Post</td>\n",
       "      <td>1</td>\n",
       "    </tr>\n",
       "    <tr>\n",
       "      <th>17</th>\n",
       "      <td>19</td>\n",
       "      <td>\\nPresident Donald Trump said on Sunday he int...</td>\n",
       "      <td>The Justice Department responded by asking its...</td>\n",
       "      <td>Trump Sets Up Showdown With DOJ Over Claims Of...</td>\n",
       "      <td>1</td>\n",
       "      <td>Huffington Post</td>\n",
       "      <td>1</td>\n",
       "    </tr>\n",
       "    <tr>\n",
       "      <th>20</th>\n",
       "      <td>33</td>\n",
       "      <td>\\nImmigration and Customs Enforcement is arres...</td>\n",
       "      <td>The president often talks about criminals that...</td>\n",
       "      <td>Trump's ICE Is Increasingly Arresting Immigran...</td>\n",
       "      <td>1</td>\n",
       "      <td>Huffington Post</td>\n",
       "      <td>1</td>\n",
       "    </tr>\n",
       "    <tr>\n",
       "      <th>21</th>\n",
       "      <td>34</td>\n",
       "      <td>\\nObama-era White House photographer Pete Souz...</td>\n",
       "      <td>\"Dear sir: THESE are animals.\"</td>\n",
       "      <td>Obama Photographer Taunts Donald Trump For Cal...</td>\n",
       "      <td>1</td>\n",
       "      <td>Huffington Post</td>\n",
       "      <td>1</td>\n",
       "    </tr>\n",
       "    <tr>\n",
       "      <th>24</th>\n",
       "      <td>60</td>\n",
       "      <td>\\nThe White House-brokered meeting during whic...</td>\n",
       "      <td>Republicans have been demanding a look at docu...</td>\n",
       "      <td>Democrats Weren't Invited To Review Classified...</td>\n",
       "      <td>1</td>\n",
       "      <td>Huffington Post</td>\n",
       "      <td>1</td>\n",
       "    </tr>\n",
       "    <tr>\n",
       "      <th>31</th>\n",
       "      <td>71</td>\n",
       "      <td>\\n\\n\\n\\n\\n\\nDownload\\n\\n\\n\\n\\n\\nLong-time Dona...</td>\n",
       "      <td>Any action is an “effort to silence me,” the c...</td>\n",
       "      <td>Roger Stone Says He’s ‘Prepared’ For ‘Conjured...</td>\n",
       "      <td>1</td>\n",
       "      <td>Huffington Post</td>\n",
       "      <td>1</td>\n",
       "    </tr>\n",
       "    <tr>\n",
       "      <th>35</th>\n",
       "      <td>75</td>\n",
       "      <td>\\nPresident Donald Trump attacked the credibil...</td>\n",
       "      <td>The president tried to smear the credibility o...</td>\n",
       "      <td>Trump: ‘Real Americans’ Should Get ‘Tough’ On ...</td>\n",
       "      <td>1</td>\n",
       "      <td>Huffington Post</td>\n",
       "      <td>1</td>\n",
       "    </tr>\n",
       "    <tr>\n",
       "      <th>41</th>\n",
       "      <td>81</td>\n",
       "      <td>\\nOn a quest to fulfill his promise to end unn...</td>\n",
       "      <td>The recommendation comes days after the Manhat...</td>\n",
       "      <td>Bill De Blasio Tells NYPD To Stop Arresting Pe...</td>\n",
       "      <td>1</td>\n",
       "      <td>Huffington Post</td>\n",
       "      <td>1</td>\n",
       "    </tr>\n",
       "    <tr>\n",
       "      <th>42</th>\n",
       "      <td>82</td>\n",
       "      <td>\\nSatirical stalwart The Onion published one o...</td>\n",
       "      <td>“The article is an absolutely disgusting piece...</td>\n",
       "      <td>The Onion Hilariously Trolls Michael Cohen Wit...</td>\n",
       "      <td>1</td>\n",
       "      <td>Huffington Post</td>\n",
       "      <td>1</td>\n",
       "    </tr>\n",
       "    <tr>\n",
       "      <th>46</th>\n",
       "      <td>86</td>\n",
       "      <td>\\nWASHINGTON ― One of Donald Trump’s lawyers s...</td>\n",
       "      <td>“We can’t let our guy go in and be questioned ...</td>\n",
       "      <td>Giuliani Says Mueller Can’t Talk To Trump Unti...</td>\n",
       "      <td>1</td>\n",
       "      <td>Huffington Post</td>\n",
       "      <td>1</td>\n",
       "    </tr>\n",
       "    <tr>\n",
       "      <th>54</th>\n",
       "      <td>94</td>\n",
       "      <td>\\nWASHINGTON — Secretary of State Mike Pompeo ...</td>\n",
       "      <td>The secretary of state avoided specifics on ho...</td>\n",
       "      <td>Mike Pompeo Promises To ‘Crush’ Iran And Achie...</td>\n",
       "      <td>1</td>\n",
       "      <td>Huffington Post</td>\n",
       "      <td>1</td>\n",
       "    </tr>\n",
       "    <tr>\n",
       "      <th>57</th>\n",
       "      <td>99</td>\n",
       "      <td>\\nAttorney General Jeff Sessions used his offi...</td>\n",
       "      <td>The attorney general ordered judges to stop ad...</td>\n",
       "      <td>Jeff Sessions Uses Exceptional Power Over Immi...</td>\n",
       "      <td>1</td>\n",
       "      <td>Huffington Post</td>\n",
       "      <td>1</td>\n",
       "    </tr>\n",
       "    <tr>\n",
       "      <th>63</th>\n",
       "      <td>105</td>\n",
       "      <td>\\nThe whistleblower who reportedly leaked the ...</td>\n",
       "      <td>The whistleblower said two files about Cohen’s...</td>\n",
       "      <td>Whistleblower Leaked Michael Cohen’s Financial...</td>\n",
       "      <td>1</td>\n",
       "      <td>Huffington Post</td>\n",
       "      <td>1</td>\n",
       "    </tr>\n",
       "    <tr>\n",
       "      <th>65</th>\n",
       "      <td>107</td>\n",
       "      <td>\\nWASHINGTON ― President Donald Trump’s failur...</td>\n",
       "      <td>The Office of Government Ethics said the presi...</td>\n",
       "      <td>Trump’s Failure To Report Stormy Daniels Payof...</td>\n",
       "      <td>1</td>\n",
       "      <td>Huffington Post</td>\n",
       "      <td>1</td>\n",
       "    </tr>\n",
       "    <tr>\n",
       "      <th>66</th>\n",
       "      <td>108</td>\n",
       "      <td>\\nRex Tillerson came precipitously close to cr...</td>\n",
       "      <td>Gee, wonder who he’s talking about.</td>\n",
       "      <td>Rex Tillerson Warns Grads Of Living In ‘Altern...</td>\n",
       "      <td>1</td>\n",
       "      <td>Huffington Post</td>\n",
       "      <td>1</td>\n",
       "    </tr>\n",
       "    <tr>\n",
       "      <th>68</th>\n",
       "      <td>110</td>\n",
       "      <td>\\n\\n\\n\\n\\n\\nDownload\\n\\n\\n\\n\\n\\nWASHINGTON, Ma...</td>\n",
       "      <td>The crown princes of the UAE and Saudi Arabia ...</td>\n",
       "      <td>Trump Jr. Met With Emissary For Gulf Princes O...</td>\n",
       "      <td>1</td>\n",
       "      <td>Huffington Post</td>\n",
       "      <td>1</td>\n",
       "    </tr>\n",
       "    <tr>\n",
       "      <th>71</th>\n",
       "      <td>113</td>\n",
       "      <td>\\n\\n\\n\\n\\n\\nDownload\\n\\n\\n\\n\\n\\nA former Dalla...</td>\n",
       "      <td>Even his own mom calls him a bigot, but former...</td>\n",
       "      <td>GOP Candidate Set Up Trust That Pays His Kids ...</td>\n",
       "      <td>1</td>\n",
       "      <td>Huffington Post</td>\n",
       "      <td>1</td>\n",
       "    </tr>\n",
       "    <tr>\n",
       "      <th>75</th>\n",
       "      <td>117</td>\n",
       "      <td>\\nSTERLING, Va. ― Tom Steyer, a former hedge f...</td>\n",
       "      <td>He’s betting that a campaign to impeach Donald...</td>\n",
       "      <td>For Liberal Billionaire Tom Steyer, It’s All A...</td>\n",
       "      <td>1</td>\n",
       "      <td>Huffington Post</td>\n",
       "      <td>1</td>\n",
       "    </tr>\n",
       "    <tr>\n",
       "      <th>81</th>\n",
       "      <td>123</td>\n",
       "      <td>\\nJim Bridenstine, Donald Trump’s pick as NASA...</td>\n",
       "      <td>He said humans are contributing in a “major wa...</td>\n",
       "      <td>Trump’s NASA Chief Has Apparently Changed His ...</td>\n",
       "      <td>1</td>\n",
       "      <td>Huffington Post</td>\n",
       "      <td>1</td>\n",
       "    </tr>\n",
       "    <tr>\n",
       "      <th>82</th>\n",
       "      <td>124</td>\n",
       "      <td>\\nThe Senate Judiciary Committee on Wednesday ...</td>\n",
       "      <td>All 216 things.</td>\n",
       "      <td>A Comprehensive List Of Everything Don Jr. Doe...</td>\n",
       "      <td>1</td>\n",
       "      <td>Huffington Post</td>\n",
       "      <td>1</td>\n",
       "    </tr>\n",
       "    <tr>\n",
       "      <th>85</th>\n",
       "      <td>127</td>\n",
       "      <td>\\nNEW YORK (Reuters) - The former son-in-law o...</td>\n",
       "      <td>The guilty plea agreement could add to the leg...</td>\n",
       "      <td>Report: Manafort’s Former Son-In-Law Cuts Plea...</td>\n",
       "      <td>1</td>\n",
       "      <td>Huffington Post</td>\n",
       "      <td>1</td>\n",
       "    </tr>\n",
       "    <tr>\n",
       "      <th>86</th>\n",
       "      <td>128</td>\n",
       "      <td>\\nThe White House-brokered meeting during whic...</td>\n",
       "      <td>Republicans have been demanding a look at docu...</td>\n",
       "      <td>Democrats Weren’t Invited To Review Classified...</td>\n",
       "      <td>1</td>\n",
       "      <td>Huffington Post</td>\n",
       "      <td>1</td>\n",
       "    </tr>\n",
       "    <tr>\n",
       "      <th>89</th>\n",
       "      <td>132</td>\n",
       "      <td>\\nPresident Donald Trump has ordered the Depar...</td>\n",
       "      <td>Officials in Seoul have denied the New York Ti...</td>\n",
       "      <td>Trump Reportedly Tells Pentagon To Consider Re...</td>\n",
       "      <td>1</td>\n",
       "      <td>Huffington Post</td>\n",
       "      <td>1</td>\n",
       "    </tr>\n",
       "    <tr>\n",
       "      <th>96</th>\n",
       "      <td>139</td>\n",
       "      <td>\\nWASHINGTON (Reuters) - President Donald Trum...</td>\n",
       "      <td>U.S. allies France, Germany and Britain have a...</td>\n",
       "      <td>Trump To Announce Whether U.S. Will Break The ...</td>\n",
       "      <td>1</td>\n",
       "      <td>Huffington Post</td>\n",
       "      <td>1</td>\n",
       "    </tr>\n",
       "    <tr>\n",
       "      <th>97</th>\n",
       "      <td>140</td>\n",
       "      <td>\\nPresident Donald Trump is standing by Gina H...</td>\n",
       "      <td>“We have the most qualified person, a woman, w...</td>\n",
       "      <td>Trump Defends Gina Haspel, His Nominee For CIA...</td>\n",
       "      <td>1</td>\n",
       "      <td>Huffington Post</td>\n",
       "      <td>1</td>\n",
       "    </tr>\n",
       "    <tr>\n",
       "      <th>99</th>\n",
       "      <td>142</td>\n",
       "      <td>\\nWASHINGTON — Facing numerous allegations of ...</td>\n",
       "      <td>The EPA chief’s ego and lavish spending have m...</td>\n",
       "      <td>In Senate Hot Seat, Scott Pruitt Dodges Questi...</td>\n",
       "      <td>1</td>\n",
       "      <td>Huffington Post</td>\n",
       "      <td>1</td>\n",
       "    </tr>\n",
       "    <tr>\n",
       "      <th>100</th>\n",
       "      <td>143</td>\n",
       "      <td>\\nPresident Donald Trump has picked Senate Maj...</td>\n",
       "      <td>Experts say the choice to lead the Pension Ben...</td>\n",
       "      <td>Trump Picks Mitch McConnell’s Brother-In-Law, ...</td>\n",
       "      <td>1</td>\n",
       "      <td>Huffington Post</td>\n",
       "      <td>1</td>\n",
       "    </tr>\n",
       "    <tr>\n",
       "      <th>107</th>\n",
       "      <td>150</td>\n",
       "      <td>\\nWASHINGTON – A mere 72 hours after the Chine...</td>\n",
       "      <td>Trump will profit from Indonesian resort proje...</td>\n",
       "      <td>Trump Orders Help For Chinese Phone-Maker Afte...</td>\n",
       "      <td>1</td>\n",
       "      <td>Huffington Post</td>\n",
       "      <td>1</td>\n",
       "    </tr>\n",
       "    <tr>\n",
       "      <th>...</th>\n",
       "      <td>...</td>\n",
       "      <td>...</td>\n",
       "      <td>...</td>\n",
       "      <td>...</td>\n",
       "      <td>...</td>\n",
       "      <td>...</td>\n",
       "      <td>...</td>\n",
       "    </tr>\n",
       "    <tr>\n",
       "      <th>497</th>\n",
       "      <td>552</td>\n",
       "      <td>\\nThe United States condemned what senior admi...</td>\n",
       "      <td>The telecommunications giant’s $85 billion mer...</td>\n",
       "      <td>U.S. Heaps More Sanctions on Venezuela After ‘...</td>\n",
       "      <td>3</td>\n",
       "      <td>Breitbart</td>\n",
       "      <td>1</td>\n",
       "    </tr>\n",
       "    <tr>\n",
       "      <th>499</th>\n",
       "      <td>554</td>\n",
       "      <td>\\nThe FBI informant who sought information abo...</td>\n",
       "      <td>The telecommunications giant’s $85 billion mer...</td>\n",
       "      <td>FBI ‘Spy’ Stefan Halper Wanted a Job in Donald...</td>\n",
       "      <td>3</td>\n",
       "      <td>Breitbart</td>\n",
       "      <td>1</td>\n",
       "    </tr>\n",
       "    <tr>\n",
       "      <th>500</th>\n",
       "      <td>555</td>\n",
       "      <td>\\nPresident Donald J. Trump praised NASCAR dri...</td>\n",
       "      <td>The telecommunications giant’s $85 billion mer...</td>\n",
       "      <td>Donald Trump Praises NASCAR Drivers for Standi...</td>\n",
       "      <td>3</td>\n",
       "      <td>Breitbart</td>\n",
       "      <td>1</td>\n",
       "    </tr>\n",
       "    <tr>\n",
       "      <th>501</th>\n",
       "      <td>556</td>\n",
       "      <td>\\nThose of us who have been watching the Muell...</td>\n",
       "      <td>The telecommunications giant’s $85 billion mer...</td>\n",
       "      <td>Fitton: Top Hillary Aide John Podesta Records ...</td>\n",
       "      <td>3</td>\n",
       "      <td>Breitbart</td>\n",
       "      <td>1</td>\n",
       "    </tr>\n",
       "    <tr>\n",
       "      <th>503</th>\n",
       "      <td>558</td>\n",
       "      <td>\\nFormer Attorney General Eric Holder blasted ...</td>\n",
       "      <td>The telecommunications giant’s $85 billion mer...</td>\n",
       "      <td>Eric Holder: ‘No Basis’ for Trump to Investiga...</td>\n",
       "      <td>3</td>\n",
       "      <td>Breitbart</td>\n",
       "      <td>1</td>\n",
       "    </tr>\n",
       "    <tr>\n",
       "      <th>506</th>\n",
       "      <td>561</td>\n",
       "      <td>\\nDonald Trump will meet with FBI Director Chr...</td>\n",
       "      <td>The telecommunications giant’s $85 billion mer...</td>\n",
       "      <td>Report: Trump, Rosenstein, Wray Meet at White ...</td>\n",
       "      <td>3</td>\n",
       "      <td>Breitbart</td>\n",
       "      <td>1</td>\n",
       "    </tr>\n",
       "    <tr>\n",
       "      <th>508</th>\n",
       "      <td>563</td>\n",
       "      <td>\\nA meeting previously planned to be closed-do...</td>\n",
       "      <td>The telecommunications giant’s $85 billion mer...</td>\n",
       "      <td>Reversal: Facebook CEO Mark Zuckerberg’s EU Pa...</td>\n",
       "      <td>3</td>\n",
       "      <td>Breitbart</td>\n",
       "      <td>1</td>\n",
       "    </tr>\n",
       "    <tr>\n",
       "      <th>509</th>\n",
       "      <td>564</td>\n",
       "      <td>\\nPublic records show Stefan Halper, the forei...</td>\n",
       "      <td>The telecommunications giant’s $85 billion mer...</td>\n",
       "      <td>Obama DoD Paid ‘FBI Informant’ Stefan Halper o...</td>\n",
       "      <td>3</td>\n",
       "      <td>Breitbart</td>\n",
       "      <td>1</td>\n",
       "    </tr>\n",
       "    <tr>\n",
       "      <th>515</th>\n",
       "      <td>570</td>\n",
       "      <td>\\nSouth Korean President Moon Jae-in discussed...</td>\n",
       "      <td>The telecommunications giant’s $85 billion mer...</td>\n",
       "      <td>Trump and South Korea’s Moon Discuss North Kor...</td>\n",
       "      <td>3</td>\n",
       "      <td>Breitbart</td>\n",
       "      <td>1</td>\n",
       "    </tr>\n",
       "    <tr>\n",
       "      <th>516</th>\n",
       "      <td>571</td>\n",
       "      <td>\\nWith the coming North/South Korea entente yo...</td>\n",
       "      <td>The telecommunications giant’s $85 billion mer...</td>\n",
       "      <td>Progressive Media: Trump/North Korea Summit Co...</td>\n",
       "      <td>3</td>\n",
       "      <td>Breitbart</td>\n",
       "      <td>1</td>\n",
       "    </tr>\n",
       "    <tr>\n",
       "      <th>517</th>\n",
       "      <td>572</td>\n",
       "      <td>\\nPresident Donald J. Trump attended the swear...</td>\n",
       "      <td>The telecommunications giant’s $85 billion mer...</td>\n",
       "      <td>Donald Trump Hails First Female CIA Director G...</td>\n",
       "      <td>3</td>\n",
       "      <td>Breitbart</td>\n",
       "      <td>1</td>\n",
       "    </tr>\n",
       "    <tr>\n",
       "      <th>518</th>\n",
       "      <td>573</td>\n",
       "      <td>\\nNetflix announced Monday that it is partneri...</td>\n",
       "      <td>The telecommunications giant’s $85 billion mer...</td>\n",
       "      <td>Barack, Michelle Obama Ink Deal to Produce Net...</td>\n",
       "      <td>3</td>\n",
       "      <td>Breitbart</td>\n",
       "      <td>1</td>\n",
       "    </tr>\n",
       "    <tr>\n",
       "      <th>519</th>\n",
       "      <td>574</td>\n",
       "      <td>\\nTEL AVIV — President Trump has taken to Twit...</td>\n",
       "      <td>The telecommunications giant’s $85 billion mer...</td>\n",
       "      <td>Three Major Ways John Brennan Fueled the Trump...</td>\n",
       "      <td>3</td>\n",
       "      <td>Breitbart</td>\n",
       "      <td>1</td>\n",
       "    </tr>\n",
       "    <tr>\n",
       "      <th>525</th>\n",
       "      <td>580</td>\n",
       "      <td>\\nThe chief White House economic adviser Monda...</td>\n",
       "      <td>The telecommunications giant’s $85 billion mer...</td>\n",
       "      <td>Kudlow: Trade ‘Truce’ Doesn’t Mean We’re Backi...</td>\n",
       "      <td>3</td>\n",
       "      <td>Breitbart</td>\n",
       "      <td>1</td>\n",
       "    </tr>\n",
       "    <tr>\n",
       "      <th>526</th>\n",
       "      <td>581</td>\n",
       "      <td>\\nThis week, Republican lawmakers will shine n...</td>\n",
       "      <td>The telecommunications giant’s $85 billion mer...</td>\n",
       "      <td>GOP Lawmakers to File Resolution Detailing DOJ...</td>\n",
       "      <td>3</td>\n",
       "      <td>Breitbart</td>\n",
       "      <td>1</td>\n",
       "    </tr>\n",
       "    <tr>\n",
       "      <th>527</th>\n",
       "      <td>582</td>\n",
       "      <td>\\nTEL AVIV – Israel’s ambassador to the UN Dan...</td>\n",
       "      <td>The telecommunications giant’s $85 billion mer...</td>\n",
       "      <td>Israeli UN Envoy Urges Security Council to Rej...</td>\n",
       "      <td>3</td>\n",
       "      <td>Breitbart</td>\n",
       "      <td>1</td>\n",
       "    </tr>\n",
       "    <tr>\n",
       "      <th>528</th>\n",
       "      <td>583</td>\n",
       "      <td>\\nJohn Brennan, President Obama’s former CIA d...</td>\n",
       "      <td>The telecommunications giant’s $85 billion mer...</td>\n",
       "      <td>Nolte: Ex-CIA Director John Brennan Threatens ...</td>\n",
       "      <td>3</td>\n",
       "      <td>Breitbart</td>\n",
       "      <td>1</td>\n",
       "    </tr>\n",
       "    <tr>\n",
       "      <th>529</th>\n",
       "      <td>584</td>\n",
       "      <td>\\nPresident Donald J. Trump questioned the act...</td>\n",
       "      <td>The telecommunications giant’s $85 billion mer...</td>\n",
       "      <td>Donald Trump: ‘Where in the World Was Barack O...</td>\n",
       "      <td>3</td>\n",
       "      <td>Breitbart</td>\n",
       "      <td>1</td>\n",
       "    </tr>\n",
       "    <tr>\n",
       "      <th>530</th>\n",
       "      <td>585</td>\n",
       "      <td>\\nPresident Donald J. Trump said that former C...</td>\n",
       "      <td>The telecommunications giant’s $85 billion mer...</td>\n",
       "      <td>Donald Trump Goes to War with ‘Disgraced’ John...</td>\n",
       "      <td>3</td>\n",
       "      <td>Breitbart</td>\n",
       "      <td>1</td>\n",
       "    </tr>\n",
       "    <tr>\n",
       "      <th>532</th>\n",
       "      <td>587</td>\n",
       "      <td>\\nTreasury Secretary Steven Mnuchin said Monda...</td>\n",
       "      <td>The telecommunications giant’s $85 billion mer...</td>\n",
       "      <td>Mnuchin Says ‘The Team is Unified’ in China Tr...</td>\n",
       "      <td>3</td>\n",
       "      <td>Breitbart</td>\n",
       "      <td>1</td>\n",
       "    </tr>\n",
       "    <tr>\n",
       "      <th>535</th>\n",
       "      <td>590</td>\n",
       "      <td>\\nTEL AVIV – Prime Minister Benjamin Netanyahu...</td>\n",
       "      <td>The telecommunications giant’s $85 billion mer...</td>\n",
       "      <td>Paraguay Becomes Third Country in a Week to Op...</td>\n",
       "      <td>3</td>\n",
       "      <td>Breitbart</td>\n",
       "      <td>1</td>\n",
       "    </tr>\n",
       "    <tr>\n",
       "      <th>536</th>\n",
       "      <td>591</td>\n",
       "      <td>\\nLast week, reports indicated Stefan Halper, ...</td>\n",
       "      <td>The telecommunications giant’s $85 billion mer...</td>\n",
       "      <td>Who Is Stefan Halper? Meet the ‘FBI Informant’...</td>\n",
       "      <td>3</td>\n",
       "      <td>Breitbart</td>\n",
       "      <td>1</td>\n",
       "    </tr>\n",
       "    <tr>\n",
       "      <th>537</th>\n",
       "      <td>592</td>\n",
       "      <td>\\nPresident Donald J. Trump signaled a victory...</td>\n",
       "      <td>The telecommunications giant’s $85 billion mer...</td>\n",
       "      <td>Donald Trump Signals Victory with China as Tra...</td>\n",
       "      <td>3</td>\n",
       "      <td>Breitbart</td>\n",
       "      <td>1</td>\n",
       "    </tr>\n",
       "    <tr>\n",
       "      <th>538</th>\n",
       "      <td>593</td>\n",
       "      <td>\\nMark Penn — Hillary Clinton’s chief strategi...</td>\n",
       "      <td>The telecommunications giant’s $85 billion mer...</td>\n",
       "      <td>Clintonista Mark Penn: Mueller Probe Exposed —...</td>\n",
       "      <td>3</td>\n",
       "      <td>Breitbart</td>\n",
       "      <td>1</td>\n",
       "    </tr>\n",
       "    <tr>\n",
       "      <th>541</th>\n",
       "      <td>596</td>\n",
       "      <td>\\nFailed presidential candidate Hillary Clinto...</td>\n",
       "      <td>The telecommunications giant’s $85 billion mer...</td>\n",
       "      <td>Still Not Over It: Hillary Taunts Trump by Don...</td>\n",
       "      <td>3</td>\n",
       "      <td>Breitbart</td>\n",
       "      <td>1</td>\n",
       "    </tr>\n",
       "    <tr>\n",
       "      <th>542</th>\n",
       "      <td>597</td>\n",
       "      <td>\\nTurkish President Recep Tayyip Erdoğan conde...</td>\n",
       "      <td>The telecommunications giant’s $85 billion mer...</td>\n",
       "      <td>Deliver an ‘Ottoman Slap’ in ‘Failing Europe’,...</td>\n",
       "      <td>3</td>\n",
       "      <td>Breitbart</td>\n",
       "      <td>1</td>\n",
       "    </tr>\n",
       "    <tr>\n",
       "      <th>543</th>\n",
       "      <td>598</td>\n",
       "      <td>\\nJERUSALEM (AP) — The Palestinian president’s...</td>\n",
       "      <td>The telecommunications giant’s $85 billion mer...</td>\n",
       "      <td>Palestinian Authority President Mahmoud Abbas ...</td>\n",
       "      <td>3</td>\n",
       "      <td>Breitbart</td>\n",
       "      <td>1</td>\n",
       "    </tr>\n",
       "    <tr>\n",
       "      <th>544</th>\n",
       "      <td>599</td>\n",
       "      <td>\\n(AFP) BEIRUT — At least 28 pro-government fi...</td>\n",
       "      <td>The telecommunications giant’s $85 billion mer...</td>\n",
       "      <td>Death Toll from Blasts at Syria Airbase Climbs...</td>\n",
       "      <td>3</td>\n",
       "      <td>Breitbart</td>\n",
       "      <td>1</td>\n",
       "    </tr>\n",
       "    <tr>\n",
       "      <th>545</th>\n",
       "      <td>600</td>\n",
       "      <td>\\nCalifornia winemakers that have enjoyed an e...</td>\n",
       "      <td>The telecommunications giant’s $85 billion mer...</td>\n",
       "      <td>U.S.-China Trade Deal to End Retaliatory Tarif...</td>\n",
       "      <td>3</td>\n",
       "      <td>Breitbart</td>\n",
       "      <td>1</td>\n",
       "    </tr>\n",
       "    <tr>\n",
       "      <th>549</th>\n",
       "      <td>604</td>\n",
       "      <td>\\nPresident Donald Trump’s attorney Rudy Giuli...</td>\n",
       "      <td>The telecommunications giant’s $85 billion mer...</td>\n",
       "      <td>Giuliani: Mueller To Finish Probing Possible T...</td>\n",
       "      <td>3</td>\n",
       "      <td>Breitbart</td>\n",
       "      <td>1</td>\n",
       "    </tr>\n",
       "  </tbody>\n",
       "</table>\n",
       "<p>333 rows × 7 columns</p>\n",
       "</div>"
      ],
      "text/plain": [
       "     index                                               body  \\\n",
       "5        5  \\nA business partner of U.S. President Donald ...   \n",
       "11      13  \\nHomeland Security Secretary Kirstjen Nielsen...   \n",
       "13      15  \\nA former adviser to President Donald Trump o...   \n",
       "17      19  \\nPresident Donald Trump said on Sunday he int...   \n",
       "20      33  \\nImmigration and Customs Enforcement is arres...   \n",
       "21      34  \\nObama-era White House photographer Pete Souz...   \n",
       "24      60  \\nThe White House-brokered meeting during whic...   \n",
       "31      71  \\n\\n\\n\\n\\n\\nDownload\\n\\n\\n\\n\\n\\nLong-time Dona...   \n",
       "35      75  \\nPresident Donald Trump attacked the credibil...   \n",
       "41      81  \\nOn a quest to fulfill his promise to end unn...   \n",
       "42      82  \\nSatirical stalwart The Onion published one o...   \n",
       "46      86  \\nWASHINGTON ― One of Donald Trump’s lawyers s...   \n",
       "54      94  \\nWASHINGTON — Secretary of State Mike Pompeo ...   \n",
       "57      99  \\nAttorney General Jeff Sessions used his offi...   \n",
       "63     105  \\nThe whistleblower who reportedly leaked the ...   \n",
       "65     107  \\nWASHINGTON ― President Donald Trump’s failur...   \n",
       "66     108  \\nRex Tillerson came precipitously close to cr...   \n",
       "68     110  \\n\\n\\n\\n\\n\\nDownload\\n\\n\\n\\n\\n\\nWASHINGTON, Ma...   \n",
       "71     113  \\n\\n\\n\\n\\n\\nDownload\\n\\n\\n\\n\\n\\nA former Dalla...   \n",
       "75     117  \\nSTERLING, Va. ― Tom Steyer, a former hedge f...   \n",
       "81     123  \\nJim Bridenstine, Donald Trump’s pick as NASA...   \n",
       "82     124  \\nThe Senate Judiciary Committee on Wednesday ...   \n",
       "85     127  \\nNEW YORK (Reuters) - The former son-in-law o...   \n",
       "86     128  \\nThe White House-brokered meeting during whic...   \n",
       "89     132  \\nPresident Donald Trump has ordered the Depar...   \n",
       "96     139  \\nWASHINGTON (Reuters) - President Donald Trum...   \n",
       "97     140  \\nPresident Donald Trump is standing by Gina H...   \n",
       "99     142  \\nWASHINGTON — Facing numerous allegations of ...   \n",
       "100    143  \\nPresident Donald Trump has picked Senate Maj...   \n",
       "107    150  \\nWASHINGTON – A mere 72 hours after the Chine...   \n",
       "..     ...                                                ...   \n",
       "497    552  \\nThe United States condemned what senior admi...   \n",
       "499    554  \\nThe FBI informant who sought information abo...   \n",
       "500    555  \\nPresident Donald J. Trump praised NASCAR dri...   \n",
       "501    556  \\nThose of us who have been watching the Muell...   \n",
       "503    558  \\nFormer Attorney General Eric Holder blasted ...   \n",
       "506    561  \\nDonald Trump will meet with FBI Director Chr...   \n",
       "508    563  \\nA meeting previously planned to be closed-do...   \n",
       "509    564  \\nPublic records show Stefan Halper, the forei...   \n",
       "515    570  \\nSouth Korean President Moon Jae-in discussed...   \n",
       "516    571  \\nWith the coming North/South Korea entente yo...   \n",
       "517    572  \\nPresident Donald J. Trump attended the swear...   \n",
       "518    573  \\nNetflix announced Monday that it is partneri...   \n",
       "519    574  \\nTEL AVIV — President Trump has taken to Twit...   \n",
       "525    580  \\nThe chief White House economic adviser Monda...   \n",
       "526    581  \\nThis week, Republican lawmakers will shine n...   \n",
       "527    582  \\nTEL AVIV – Israel’s ambassador to the UN Dan...   \n",
       "528    583  \\nJohn Brennan, President Obama’s former CIA d...   \n",
       "529    584  \\nPresident Donald J. Trump questioned the act...   \n",
       "530    585  \\nPresident Donald J. Trump said that former C...   \n",
       "532    587  \\nTreasury Secretary Steven Mnuchin said Monda...   \n",
       "535    590  \\nTEL AVIV – Prime Minister Benjamin Netanyahu...   \n",
       "536    591  \\nLast week, reports indicated Stefan Halper, ...   \n",
       "537    592  \\nPresident Donald J. Trump signaled a victory...   \n",
       "538    593  \\nMark Penn — Hillary Clinton’s chief strategi...   \n",
       "541    596  \\nFailed presidential candidate Hillary Clinto...   \n",
       "542    597  \\nTurkish President Recep Tayyip Erdoğan conde...   \n",
       "543    598  \\nJERUSALEM (AP) — The Palestinian president’s...   \n",
       "544    599  \\n(AFP) BEIRUT — At least 28 pro-government fi...   \n",
       "545    600  \\nCalifornia winemakers that have enjoyed an e...   \n",
       "549    604  \\nPresident Donald Trump’s attorney Rudy Giuli...   \n",
       "\n",
       "                                             sub_title  \\\n",
       "5    Evgeny Freidman has been Cohen’s partner in th...   \n",
       "11   A publicly available 2017 assessment from the ...   \n",
       "13   Trump has asked the Justice Department to look...   \n",
       "17   The Justice Department responded by asking its...   \n",
       "20   The president often talks about criminals that...   \n",
       "21                      \"Dear sir: THESE are animals.\"   \n",
       "24   Republicans have been demanding a look at docu...   \n",
       "31   Any action is an “effort to silence me,” the c...   \n",
       "35   The president tried to smear the credibility o...   \n",
       "41   The recommendation comes days after the Manhat...   \n",
       "42   “The article is an absolutely disgusting piece...   \n",
       "46   “We can’t let our guy go in and be questioned ...   \n",
       "54   The secretary of state avoided specifics on ho...   \n",
       "57   The attorney general ordered judges to stop ad...   \n",
       "63   The whistleblower said two files about Cohen’s...   \n",
       "65   The Office of Government Ethics said the presi...   \n",
       "66                 Gee, wonder who he’s talking about.   \n",
       "68   The crown princes of the UAE and Saudi Arabia ...   \n",
       "71   Even his own mom calls him a bigot, but former...   \n",
       "75   He’s betting that a campaign to impeach Donald...   \n",
       "81   He said humans are contributing in a “major wa...   \n",
       "82                                     All 216 things.   \n",
       "85   The guilty plea agreement could add to the leg...   \n",
       "86   Republicans have been demanding a look at docu...   \n",
       "89   Officials in Seoul have denied the New York Ti...   \n",
       "96   U.S. allies France, Germany and Britain have a...   \n",
       "97   “We have the most qualified person, a woman, w...   \n",
       "99   The EPA chief’s ego and lavish spending have m...   \n",
       "100  Experts say the choice to lead the Pension Ben...   \n",
       "107  Trump will profit from Indonesian resort proje...   \n",
       "..                                                 ...   \n",
       "497  The telecommunications giant’s $85 billion mer...   \n",
       "499  The telecommunications giant’s $85 billion mer...   \n",
       "500  The telecommunications giant’s $85 billion mer...   \n",
       "501  The telecommunications giant’s $85 billion mer...   \n",
       "503  The telecommunications giant’s $85 billion mer...   \n",
       "506  The telecommunications giant’s $85 billion mer...   \n",
       "508  The telecommunications giant’s $85 billion mer...   \n",
       "509  The telecommunications giant’s $85 billion mer...   \n",
       "515  The telecommunications giant’s $85 billion mer...   \n",
       "516  The telecommunications giant’s $85 billion mer...   \n",
       "517  The telecommunications giant’s $85 billion mer...   \n",
       "518  The telecommunications giant’s $85 billion mer...   \n",
       "519  The telecommunications giant’s $85 billion mer...   \n",
       "525  The telecommunications giant’s $85 billion mer...   \n",
       "526  The telecommunications giant’s $85 billion mer...   \n",
       "527  The telecommunications giant’s $85 billion mer...   \n",
       "528  The telecommunications giant’s $85 billion mer...   \n",
       "529  The telecommunications giant’s $85 billion mer...   \n",
       "530  The telecommunications giant’s $85 billion mer...   \n",
       "532  The telecommunications giant’s $85 billion mer...   \n",
       "535  The telecommunications giant’s $85 billion mer...   \n",
       "536  The telecommunications giant’s $85 billion mer...   \n",
       "537  The telecommunications giant’s $85 billion mer...   \n",
       "538  The telecommunications giant’s $85 billion mer...   \n",
       "541  The telecommunications giant’s $85 billion mer...   \n",
       "542  The telecommunications giant’s $85 billion mer...   \n",
       "543  The telecommunications giant’s $85 billion mer...   \n",
       "544  The telecommunications giant’s $85 billion mer...   \n",
       "545  The telecommunications giant’s $85 billion mer...   \n",
       "549  The telecommunications giant’s $85 billion mer...   \n",
       "\n",
       "                                                 title  topic  \\\n",
       "5    Report: Michael Cohen's Business Partner Coope...      1   \n",
       "11   DHS Head Says She’s Still, Somehow, Unaware Of...      1   \n",
       "13   Ex-Trump Adviser Calls President’s Claims That...      1   \n",
       "17   Trump Sets Up Showdown With DOJ Over Claims Of...      1   \n",
       "20   Trump's ICE Is Increasingly Arresting Immigran...      1   \n",
       "21   Obama Photographer Taunts Donald Trump For Cal...      1   \n",
       "24   Democrats Weren't Invited To Review Classified...      1   \n",
       "31   Roger Stone Says He’s ‘Prepared’ For ‘Conjured...      1   \n",
       "35   Trump: ‘Real Americans’ Should Get ‘Tough’ On ...      1   \n",
       "41   Bill De Blasio Tells NYPD To Stop Arresting Pe...      1   \n",
       "42   The Onion Hilariously Trolls Michael Cohen Wit...      1   \n",
       "46   Giuliani Says Mueller Can’t Talk To Trump Unti...      1   \n",
       "54   Mike Pompeo Promises To ‘Crush’ Iran And Achie...      1   \n",
       "57   Jeff Sessions Uses Exceptional Power Over Immi...      1   \n",
       "63   Whistleblower Leaked Michael Cohen’s Financial...      1   \n",
       "65   Trump’s Failure To Report Stormy Daniels Payof...      1   \n",
       "66   Rex Tillerson Warns Grads Of Living In ‘Altern...      1   \n",
       "68   Trump Jr. Met With Emissary For Gulf Princes O...      1   \n",
       "71   GOP Candidate Set Up Trust That Pays His Kids ...      1   \n",
       "75   For Liberal Billionaire Tom Steyer, It’s All A...      1   \n",
       "81   Trump’s NASA Chief Has Apparently Changed His ...      1   \n",
       "82   A Comprehensive List Of Everything Don Jr. Doe...      1   \n",
       "85   Report: Manafort’s Former Son-In-Law Cuts Plea...      1   \n",
       "86   Democrats Weren’t Invited To Review Classified...      1   \n",
       "89   Trump Reportedly Tells Pentagon To Consider Re...      1   \n",
       "96   Trump To Announce Whether U.S. Will Break The ...      1   \n",
       "97   Trump Defends Gina Haspel, His Nominee For CIA...      1   \n",
       "99   In Senate Hot Seat, Scott Pruitt Dodges Questi...      1   \n",
       "100  Trump Picks Mitch McConnell’s Brother-In-Law, ...      1   \n",
       "107  Trump Orders Help For Chinese Phone-Maker Afte...      1   \n",
       "..                                                 ...    ...   \n",
       "497  U.S. Heaps More Sanctions on Venezuela After ‘...      3   \n",
       "499  FBI ‘Spy’ Stefan Halper Wanted a Job in Donald...      3   \n",
       "500  Donald Trump Praises NASCAR Drivers for Standi...      3   \n",
       "501  Fitton: Top Hillary Aide John Podesta Records ...      3   \n",
       "503  Eric Holder: ‘No Basis’ for Trump to Investiga...      3   \n",
       "506  Report: Trump, Rosenstein, Wray Meet at White ...      3   \n",
       "508  Reversal: Facebook CEO Mark Zuckerberg’s EU Pa...      3   \n",
       "509  Obama DoD Paid ‘FBI Informant’ Stefan Halper o...      3   \n",
       "515  Trump and South Korea’s Moon Discuss North Kor...      3   \n",
       "516  Progressive Media: Trump/North Korea Summit Co...      3   \n",
       "517  Donald Trump Hails First Female CIA Director G...      3   \n",
       "518  Barack, Michelle Obama Ink Deal to Produce Net...      3   \n",
       "519  Three Major Ways John Brennan Fueled the Trump...      3   \n",
       "525  Kudlow: Trade ‘Truce’ Doesn’t Mean We’re Backi...      3   \n",
       "526  GOP Lawmakers to File Resolution Detailing DOJ...      3   \n",
       "527  Israeli UN Envoy Urges Security Council to Rej...      3   \n",
       "528  Nolte: Ex-CIA Director John Brennan Threatens ...      3   \n",
       "529  Donald Trump: ‘Where in the World Was Barack O...      3   \n",
       "530  Donald Trump Goes to War with ‘Disgraced’ John...      3   \n",
       "532  Mnuchin Says ‘The Team is Unified’ in China Tr...      3   \n",
       "535  Paraguay Becomes Third Country in a Week to Op...      3   \n",
       "536  Who Is Stefan Halper? Meet the ‘FBI Informant’...      3   \n",
       "537  Donald Trump Signals Victory with China as Tra...      3   \n",
       "538  Clintonista Mark Penn: Mueller Probe Exposed —...      3   \n",
       "541  Still Not Over It: Hillary Taunts Trump by Don...      3   \n",
       "542  Deliver an ‘Ottoman Slap’ in ‘Failing Europe’,...      3   \n",
       "543  Palestinian Authority President Mahmoud Abbas ...      3   \n",
       "544  Death Toll from Blasts at Syria Airbase Climbs...      3   \n",
       "545  U.S.-China Trade Deal to End Retaliatory Tarif...      3   \n",
       "549  Giuliani: Mueller To Finish Probing Possible T...      3   \n",
       "\n",
       "              source  topic_model  \n",
       "5    Huffington Post            1  \n",
       "11   Huffington Post            1  \n",
       "13   Huffington Post            1  \n",
       "17   Huffington Post            1  \n",
       "20   Huffington Post            1  \n",
       "21   Huffington Post            1  \n",
       "24   Huffington Post            1  \n",
       "31   Huffington Post            1  \n",
       "35   Huffington Post            1  \n",
       "41   Huffington Post            1  \n",
       "42   Huffington Post            1  \n",
       "46   Huffington Post            1  \n",
       "54   Huffington Post            1  \n",
       "57   Huffington Post            1  \n",
       "63   Huffington Post            1  \n",
       "65   Huffington Post            1  \n",
       "66   Huffington Post            1  \n",
       "68   Huffington Post            1  \n",
       "71   Huffington Post            1  \n",
       "75   Huffington Post            1  \n",
       "81   Huffington Post            1  \n",
       "82   Huffington Post            1  \n",
       "85   Huffington Post            1  \n",
       "86   Huffington Post            1  \n",
       "89   Huffington Post            1  \n",
       "96   Huffington Post            1  \n",
       "97   Huffington Post            1  \n",
       "99   Huffington Post            1  \n",
       "100  Huffington Post            1  \n",
       "107  Huffington Post            1  \n",
       "..               ...          ...  \n",
       "497        Breitbart            1  \n",
       "499        Breitbart            1  \n",
       "500        Breitbart            1  \n",
       "501        Breitbart            1  \n",
       "503        Breitbart            1  \n",
       "506        Breitbart            1  \n",
       "508        Breitbart            1  \n",
       "509        Breitbart            1  \n",
       "515        Breitbart            1  \n",
       "516        Breitbart            1  \n",
       "517        Breitbart            1  \n",
       "518        Breitbart            1  \n",
       "519        Breitbart            1  \n",
       "525        Breitbart            1  \n",
       "526        Breitbart            1  \n",
       "527        Breitbart            1  \n",
       "528        Breitbart            1  \n",
       "529        Breitbart            1  \n",
       "530        Breitbart            1  \n",
       "532        Breitbart            1  \n",
       "535        Breitbart            1  \n",
       "536        Breitbart            1  \n",
       "537        Breitbart            1  \n",
       "538        Breitbart            1  \n",
       "541        Breitbart            1  \n",
       "542        Breitbart            1  \n",
       "543        Breitbart            1  \n",
       "544        Breitbart            1  \n",
       "545        Breitbart            1  \n",
       "549        Breitbart            1  \n",
       "\n",
       "[333 rows x 7 columns]"
      ]
     },
     "execution_count": 207,
     "metadata": {},
     "output_type": "execute_result"
    }
   ],
   "source": [
    "topic_2"
   ]
  },
  {
   "cell_type": "markdown",
   "metadata": {},
   "source": [
    "## Now for clusters within clusters"
   ]
  },
  {
   "cell_type": "markdown",
   "metadata": {},
   "source": [
    "### Topic 1"
   ]
  },
  {
   "cell_type": "code",
   "execution_count": 373,
   "metadata": {},
   "outputs": [],
   "source": [
    "text_body = topic_1.body"
   ]
  },
  {
   "cell_type": "code",
   "execution_count": 374,
   "metadata": {},
   "outputs": [],
   "source": [
    "cleaned_body = clean_text(text_body)"
   ]
  },
  {
   "cell_type": "code",
   "execution_count": 375,
   "metadata": {},
   "outputs": [],
   "source": [
    "count_vectorizer2 = CountVectorizer(ngram_range=(1, 2),  \n",
    "                                   stop_words='english', \n",
    "                                   token_pattern=\"\\\\b[a-z][a-z]+\\\\b\",\n",
    "                                   lowercase=True,\n",
    "                                   max_df = 0.6)\n",
    "\n",
    "X = count_vectorizer2.fit_transform(cleaned_body)"
   ]
  },
  {
   "cell_type": "code",
   "execution_count": 376,
   "metadata": {},
   "outputs": [
    {
     "name": "stderr",
     "output_type": "stream",
     "text": [
      "/Users/NickThomas/Desktop/anaconda/lib/python3.6/site-packages/sklearn/decomposition/online_lda.py:294: DeprecationWarning: n_topics has been renamed to n_components in version 0.19 and will be removed in 0.21\n",
      "  DeprecationWarning)\n"
     ]
    },
    {
     "data": {
      "text/plain": [
       "array([9.39963466e-05, 9.39894703e-05, 9.39963160e-05, 9.39947667e-05,\n",
       "       9.39868516e-05, 9.39889019e-05, 9.39869898e-05, 9.99154084e-01,\n",
       "       9.39897408e-05, 9.39868937e-05])"
      ]
     },
     "execution_count": 376,
     "metadata": {},
     "output_type": "execute_result"
    }
   ],
   "source": [
    "from sklearn.decomposition import LatentDirichletAllocation\n",
    "\n",
    "n_topics = 10\n",
    "n_iter = 10\n",
    "lda = LatentDirichletAllocation(n_topics=n_topics,\n",
    "                                max_iter=n_iter,\n",
    "                                random_state=42,\n",
    "                               learning_method='online')\n",
    "data = lda.fit_transform(X)\n",
    "data[0]"
   ]
  },
  {
   "cell_type": "code",
   "execution_count": 377,
   "metadata": {},
   "outputs": [
    {
     "name": "stdout",
     "output_type": "stream",
     "text": [
      "Topic  1\n",
      "american percent nation year vietnam make use like militari state republican soldier unknown gun campaign day messer giuliani time secur\n",
      "Topic  2\n",
      "gun giuliani texa law firearm comey abbott safe school campaign peopl shotgun use owner state safeti gun owner texas santa fe fbi\n",
      "Topic  3\n",
      "plan percent gun abort plan parenthood parenthood say rule like provid survey yougov fund titl owner margin gun owner women health support\n",
      "Topic  4\n",
      "window amp adsdiv function typeof amp amp break adid typeof window case recoveryid orignetid args undefined typeof undefined window origadsplid break case origadsplid htmladwh window orignetid\n",
      "Topic  5\n",
      "giuliani donald donald trump payment scarborough year msnbc week rudi giuliani rudi trump said media joe fact cohen payment suggest cohen giuliani wa women amp\n",
      "Topic  6\n",
      "bump bump stock stock ban state polic gun stock ban new caprio resid stocks year devices bump stocks law turn right peopl owner\n",
      "Topic  7\n",
      "hewitt trench school coat gun trench coat say coats trench coats hewitt said fe santa santa fe right second mani kill check second amend ban\n",
      "Topic  8\n",
      "gun nra school law publix say florida support shoot percent polit celebr putnam nune huffpost use high santa fe work fe\n",
      "Topic  9\n",
      "right court women compani worker class arbitr case law act employe forc employ pay discrimin rule class act year ms work\n",
      "Topic  10\n",
      "death penalti death penalti illinoi republican state execut year conserv governor penalty reinstat death capit death penalty drug reinstat counter case report public\n"
     ]
    }
   ],
   "source": [
    "def display_topics(model, feature_names, no_top_words):\n",
    "    for ix, topic in enumerate(model.components_):\n",
    "        print(\"Topic \", ix+1)\n",
    "        print(\" \".join([feature_names[i]\n",
    "                        for i in topic.argsort()[:-no_top_words - 1:-1]]))\n",
    "        \n",
    "display_topics(lda,count_vectorizer2.get_feature_names(),20)"
   ]
  },
  {
   "cell_type": "code",
   "execution_count": 378,
   "metadata": {},
   "outputs": [],
   "source": [
    "from sklearn.decomposition import PCA\n",
    "from sklearn.preprocessing import StandardScaler\n",
    "\n",
    "X = StandardScaler().fit_transform(data)\n",
    "\n",
    "\n",
    "pca = PCA(n_components = 2)\n",
    "X_centered_projected = pca.fit_transform(X)"
   ]
  },
  {
   "cell_type": "code",
   "execution_count": null,
   "metadata": {},
   "outputs": [],
   "source": []
  },
  {
   "cell_type": "code",
   "execution_count": 379,
   "metadata": {},
   "outputs": [],
   "source": [
    "from sklearn.metrics import silhouette_score\n",
    "from sklearn.cluster import KMeans\n",
    "\n",
    "\n",
    "SSEs = []\n",
    "Sil_coefs = []\n",
    "for k in range(2,10):\n",
    "    km = KMeans(n_clusters=k, random_state=1)\n",
    "    km.fit(X_centered_projected)\n",
    "    labels = km.labels_\n",
    "    Sil_coefs.append(silhouette_score(X_centered_projected, labels, metric='euclidean'))\n",
    "    SSEs.append(km.inertia_) "
   ]
  },
  {
   "cell_type": "code",
   "execution_count": 380,
   "metadata": {},
   "outputs": [
    {
     "data": {
      "image/png": "[encoded data removed]",
      "text/plain": [
       "<Figure size 3000x1000 with 2 Axes>"
      ]
     },
     "metadata": {},
     "output_type": "display_data"
    }
   ],
   "source": [
    "fig, (ax1, ax2) = plt.subplots(1,2, figsize=(15,5), sharex=True, dpi=200)\n",
    "k_clusters = range(2,10)\n",
    "ax1.plot(k_clusters, Sil_coefs)\n",
    "ax1.set_xlabel('number of clusters')\n",
    "ax1.set_ylabel('silhouette coefficient')\n",
    "\n",
    "# plot here on ax2\n",
    "ax2.plot(k_clusters, SSEs)\n",
    "ax2.set_xlabel('number of clusters')\n",
    "ax2.set_ylabel('SSE');"
   ]
  },
  {
   "cell_type": "code",
   "execution_count": 381,
   "metadata": {},
   "outputs": [],
   "source": [
    "\n",
    "km = KMeans(n_clusters=3)\n",
    "clusts = km.fit_predict(X_centered_projected)"
   ]
  },
  {
   "cell_type": "code",
   "execution_count": 382,
   "metadata": {},
   "outputs": [
    {
     "data": {
      "text/plain": [
       "array([[-1.27433838, -1.52746246],\n",
       "       [ 1.79955496, -0.41334381],\n",
       "       [-0.38722559,  0.92523616]])"
      ]
     },
     "execution_count": 382,
     "metadata": {},
     "output_type": "execute_result"
    }
   ],
   "source": [
    "centers = km.cluster_centers_\n",
    "centers"
   ]
  },
  {
   "cell_type": "code",
   "execution_count": 383,
   "metadata": {},
   "outputs": [
    {
     "data": {
      "text/plain": [
       "<matplotlib.collections.PathCollection at 0x1a175cf0f0>"
      ]
     },
     "execution_count": 383,
     "metadata": {},
     "output_type": "execute_result"
    },
    {
     "data": {
      "image/png": "[encoded data removed]",
      "text/plain": [
       "<Figure size 432x288 with 1 Axes>"
      ]
     },
     "metadata": {},
     "output_type": "display_data"
    }
   ],
   "source": [
    "plt.scatter(X_centered_projected[:, 0], X_centered_projected[:, 1], c=clusts, cmap=plt.cm.rainbow, alpha=0.25)\n",
    "plt.scatter(centers[:,0], centers[:,1], marker=\"x\", color='y')\n",
    "#plt.xlim(-.5,1.5)\n",
    "#plt.ylim(1.5,4.5)"
   ]
  },
  {
   "cell_type": "code",
   "execution_count": 384,
   "metadata": {},
   "outputs": [],
   "source": [
    "from sklearn.manifold import TSNE\n",
    "\n",
    "tsne = TSNE(n_components=2)"
   ]
  },
  {
   "cell_type": "code",
   "execution_count": 385,
   "metadata": {},
   "outputs": [],
   "source": [
    "X_transformed = tsne.fit_transform(X_centered_projected)"
   ]
  },
  {
   "cell_type": "code",
   "execution_count": 386,
   "metadata": {},
   "outputs": [
    {
     "data": {
      "image/png": "[encoded data removed]",
      "text/plain": [
       "<Figure size 600x400 with 2 Axes>"
      ]
     },
     "metadata": {},
     "output_type": "display_data"
    }
   ],
   "source": [
    "plt.figure(dpi=100)\n",
    "\n",
    "cmap = plt.cm.get_cmap('rainbow', 10)\n",
    "plt.scatter(X_transformed[:, 0], X_transformed[:,1], c=clusts, cmap=cmap)#, alpha = 0.15)\n",
    "#plt.xlim(-20,30)\n",
    "#plt.ylim(-30,-10)\n",
    "plt.colorbar()\n",
    "plt.clim()"
   ]
  },
  {
   "cell_type": "code",
   "execution_count": 387,
   "metadata": {},
   "outputs": [],
   "source": [
    "topic_1['meta'] = clusts"
   ]
  },
  {
   "cell_type": "code",
   "execution_count": 390,
   "metadata": {},
   "outputs": [],
   "source": [
    "X = topic_1.meta\n",
    "y = topic_1.source\n",
    "X_train, X_test, y_train, y_test = train_test_split(X, y, test_size=0.2) "
   ]
  },
  {
   "cell_type": "code",
   "execution_count": 391,
   "metadata": {},
   "outputs": [
    {
     "name": "stdout",
     "output_type": "stream",
     "text": [
      "0.7796610169491526\n",
      "0.7333333333333333\n"
     ]
    },
    {
     "name": "stderr",
     "output_type": "stream",
     "text": [
      "/Users/NickThomas/Desktop/anaconda/lib/python3.6/site-packages/ipykernel_launcher.py:1: FutureWarning: reshape is deprecated and will raise in a subsequent release. Please use .values.reshape(...) instead\n",
      "  \"\"\"Entry point for launching an IPython kernel.\n",
      "/Users/NickThomas/Desktop/anaconda/lib/python3.6/site-packages/ipykernel_launcher.py:2: FutureWarning: reshape is deprecated and will raise in a subsequent release. Please use .values.reshape(...) instead\n",
      "  \n"
     ]
    }
   ],
   "source": [
    "X_train = X_train.reshape(-1,1)\n",
    "X_test = X_test.reshape(-1,1)\n",
    "\n",
    "lm2 = LogisticRegression(C=1000)\n",
    "lm2.fit(X_train, y_train)\n",
    "print(lm2.score(X_train, y_train))\n",
    "print(lm2.score(X_test, y_test))\n"
   ]
  },
  {
   "cell_type": "code",
   "execution_count": 432,
   "metadata": {},
   "outputs": [
    {
     "data": {
      "text/plain": [
       "Huffington Post    57\n",
       "Breitbart          14\n",
       "Rueters             3\n",
       "Name: source, dtype: int64"
      ]
     },
     "execution_count": 432,
     "metadata": {},
     "output_type": "execute_result"
    }
   ],
   "source": [
    "topic_1.source.value_counts()"
   ]
  },
  {
   "cell_type": "code",
   "execution_count": 433,
   "metadata": {},
   "outputs": [
    {
     "name": "stdout",
     "output_type": "stream",
     "text": [
      "<class 'pandas.core.frame.DataFrame'>\n",
      "RangeIndex: 74 entries, 0 to 73\n",
      "Data columns (total 9 columns):\n",
      "level_0        74 non-null int64\n",
      "index          74 non-null int64\n",
      "body           74 non-null object\n",
      "sub_title      74 non-null object\n",
      "title          74 non-null object\n",
      "topic          74 non-null int64\n",
      "source         74 non-null object\n",
      "topic_model    74 non-null int32\n",
      "meta           74 non-null int32\n",
      "dtypes: int32(2), int64(3), object(4)\n",
      "memory usage: 4.7+ KB\n"
     ]
    }
   ],
   "source": [
    "topic_1.info()"
   ]
  },
  {
   "cell_type": "code",
   "execution_count": 434,
   "metadata": {},
   "outputs": [
    {
     "data": {
      "text/plain": [
       "0.7702702702702703"
      ]
     },
     "execution_count": 434,
     "metadata": {},
     "output_type": "execute_result"
    }
   ],
   "source": [
    "57 / 74"
   ]
  },
  {
   "cell_type": "markdown",
   "metadata": {},
   "source": [
    "### Topic 2"
   ]
  },
  {
   "cell_type": "code",
   "execution_count": 402,
   "metadata": {},
   "outputs": [],
   "source": [
    "text_body = topic_2.body"
   ]
  },
  {
   "cell_type": "code",
   "execution_count": 403,
   "metadata": {},
   "outputs": [],
   "source": [
    "cleaned_body = clean_text(text_body)"
   ]
  },
  {
   "cell_type": "code",
   "execution_count": 404,
   "metadata": {},
   "outputs": [],
   "source": [
    "count_vectorizer2 = CountVectorizer(ngram_range=(1, 2),  \n",
    "                                   stop_words='english', \n",
    "                                   token_pattern=\"\\\\b[a-z][a-z]+\\\\b\",\n",
    "                                   lowercase=True,\n",
    "                                   max_df = 0.6)\n",
    "\n",
    "X = count_vectorizer2.fit_transform(cleaned_body)"
   ]
  },
  {
   "cell_type": "code",
   "execution_count": 405,
   "metadata": {},
   "outputs": [
    {
     "name": "stderr",
     "output_type": "stream",
     "text": [
      "/Users/NickThomas/Desktop/anaconda/lib/python3.6/site-packages/sklearn/decomposition/online_lda.py:294: DeprecationWarning: n_topics has been renamed to n_components in version 0.19 and will be removed in 0.21\n",
      "  DeprecationWarning)\n"
     ]
    },
    {
     "data": {
      "text/plain": [
       "array([2.50635873e-04, 2.50655581e-04, 2.50640722e-04, 2.50626633e-04,\n",
       "       2.50627233e-04, 2.50626645e-04, 2.50673380e-04, 2.50627257e-04,\n",
       "       2.50626831e-04, 9.97744260e-01])"
      ]
     },
     "execution_count": 405,
     "metadata": {},
     "output_type": "execute_result"
    }
   ],
   "source": [
    "from sklearn.decomposition import LatentDirichletAllocation\n",
    "\n",
    "n_topics = 10\n",
    "n_iter = 10\n",
    "lda = LatentDirichletAllocation(n_topics=n_topics,\n",
    "                                max_iter=n_iter,\n",
    "                                random_state=42,\n",
    "                               learning_method='online')\n",
    "data = lda.fit_transform(X)\n",
    "data[0]"
   ]
  },
  {
   "cell_type": "code",
   "execution_count": 406,
   "metadata": {},
   "outputs": [
    {
     "name": "stdout",
     "output_type": "stream",
     "text": [
      "Topic  1\n",
      "north korea north korea korean north korean state releas summit jong american meet pompeo south pyongyang unit trump said year kim leader secretari\n",
      "Topic  2\n",
      "fbi campaign depart investig justic hous gener justic depart meet presidenti probe white white hous democrat inform demand attorney polit doj republican\n",
      "Topic  3\n",
      "pruitt epa reuters agenc senat washington befor environment ftc principles standards th smith trust principles reuter trust th thomson th thomson reuter thomson hous standards\n",
      "Topic  4\n",
      "buchwald amend unblock account users block forums twtr trump unblock hi account public forums disagre law professor decision block twitter amend right twitter account twitter user friday administr requir support\n",
      "Topic  5\n",
      "baldwin cobb person data analytica cambridg analytica vukmir data hair suggest cambridg tortur harvest nominee facebook user facial facial hair mustach wisconsin commissioner offic data got\n",
      "Topic  6\n",
      "don iran washington deal campaign know north investig wednesday korea hous state reuters year cohen releas white nuclear accord ani\n",
      "Topic  7\n",
      "china campaign senat state hous know don trade new nation white republican washington news offici democrat unit use time white hous\n",
      "Topic  8\n",
      "paul gibbon mcconnell brakey candid gibbons sen mcconnel leadership challeng support renacci freita ward libertarian paul said ohio endors isn gop\n",
      "Topic  9\n",
      "cunningham marri hi children brother vicker cunningham morn news vicker children sex morn nbc outlet hi brother runoff christian estrang estrang brother cunningham told opposit sex report feder\n",
      "Topic  10\n",
      "iran deal state cohen nuclear new washington reuters mueller unit israel offici iranian time american north campaign investig korea unit state\n"
     ]
    }
   ],
   "source": [
    "def display_topics(model, feature_names, no_top_words):\n",
    "    for ix, topic in enumerate(model.components_):\n",
    "        print(\"Topic \", ix+1)\n",
    "        print(\" \".join([feature_names[i]\n",
    "                        for i in topic.argsort()[:-no_top_words - 1:-1]]))\n",
    "        \n",
    "display_topics(lda,count_vectorizer2.get_feature_names(),20)"
   ]
  },
  {
   "cell_type": "code",
   "execution_count": 407,
   "metadata": {},
   "outputs": [],
   "source": [
    "from sklearn.decomposition import PCA\n",
    "from sklearn.preprocessing import StandardScaler\n",
    "\n",
    "X = StandardScaler().fit_transform(data)\n",
    "\n",
    "\n",
    "pca = PCA(n_components = 2)\n",
    "X_centered_projected = pca.fit_transform(X)"
   ]
  },
  {
   "cell_type": "code",
   "execution_count": 408,
   "metadata": {},
   "outputs": [],
   "source": [
    "from sklearn.metrics import silhouette_score\n",
    "from sklearn.cluster import KMeans\n",
    "\n",
    "\n",
    "SSEs = []\n",
    "Sil_coefs = []\n",
    "for k in range(2,10):\n",
    "    km = KMeans(n_clusters=k, random_state=1)\n",
    "    km.fit(X_centered_projected)\n",
    "    labels = km.labels_\n",
    "    Sil_coefs.append(silhouette_score(X_centered_projected, labels, metric='euclidean'))\n",
    "    SSEs.append(km.inertia_) "
   ]
  },
  {
   "cell_type": "code",
   "execution_count": 409,
   "metadata": {},
   "outputs": [
    {
     "data": {
      "image/png": "[encoded data removed]",
      "text/plain": [
       "<Figure size 3000x1000 with 2 Axes>"
      ]
     },
     "metadata": {},
     "output_type": "display_data"
    }
   ],
   "source": [
    "fig, (ax1, ax2) = plt.subplots(1,2, figsize=(15,5), sharex=True, dpi=200)\n",
    "k_clusters = range(2,10)\n",
    "ax1.plot(k_clusters, Sil_coefs)\n",
    "ax1.set_xlabel('number of clusters')\n",
    "ax1.set_ylabel('silhouette coefficient')\n",
    "\n",
    "# plot here on ax2\n",
    "ax2.plot(k_clusters, SSEs)\n",
    "ax2.set_xlabel('number of clusters')\n",
    "ax2.set_ylabel('SSE');"
   ]
  },
  {
   "cell_type": "code",
   "execution_count": 410,
   "metadata": {},
   "outputs": [],
   "source": [
    "\n",
    "km = KMeans(n_clusters=3)\n",
    "clusts = km.fit_predict(X_centered_projected)"
   ]
  },
  {
   "cell_type": "code",
   "execution_count": 411,
   "metadata": {},
   "outputs": [
    {
     "data": {
      "text/plain": [
       "array([[-1.26893226, -0.22266241],\n",
       "       [ 1.48371549, -0.72572921],\n",
       "       [ 0.2631542 ,  1.93881391]])"
      ]
     },
     "execution_count": 411,
     "metadata": {},
     "output_type": "execute_result"
    }
   ],
   "source": [
    "centers = km.cluster_centers_\n",
    "centers"
   ]
  },
  {
   "cell_type": "code",
   "execution_count": 412,
   "metadata": {},
   "outputs": [
    {
     "data": {
      "text/plain": [
       "<matplotlib.collections.PathCollection at 0x1a1744ee10>"
      ]
     },
     "execution_count": 412,
     "metadata": {},
     "output_type": "execute_result"
    },
    {
     "data": {
      "image/png": "[encoded data removed]",
      "text/plain": [
       "<Figure size 432x288 with 1 Axes>"
      ]
     },
     "metadata": {},
     "output_type": "display_data"
    }
   ],
   "source": [
    "plt.scatter(X_centered_projected[:, 0], X_centered_projected[:, 1], c=clusts, cmap=plt.cm.rainbow, alpha=0.25)\n",
    "plt.scatter(centers[:,0], centers[:,1], marker=\"x\", color='y')\n",
    "#plt.xlim(-.5,1.5)\n",
    "#plt.ylim(1.5,4.5)"
   ]
  },
  {
   "cell_type": "code",
   "execution_count": 413,
   "metadata": {},
   "outputs": [],
   "source": [
    "tsne = TSNE(n_components=2)"
   ]
  },
  {
   "cell_type": "code",
   "execution_count": 414,
   "metadata": {},
   "outputs": [],
   "source": [
    "X_transformed = tsne.fit_transform(X_centered_projected)"
   ]
  },
  {
   "cell_type": "code",
   "execution_count": 415,
   "metadata": {},
   "outputs": [
    {
     "data": {
      "image/png": "[encoded data removed]",
      "text/plain": [
       "<Figure size 600x400 with 2 Axes>"
      ]
     },
     "metadata": {},
     "output_type": "display_data"
    }
   ],
   "source": [
    "plt.figure(dpi=100)\n",
    "\n",
    "cmap = plt.cm.get_cmap('rainbow', 10)\n",
    "plt.scatter(X_transformed[:, 0], X_transformed[:,1], c=clusts, cmap=cmap)#, alpha = 0.15)\n",
    "#plt.xlim(-20,30)\n",
    "#plt.ylim(-30,-10)\n",
    "plt.colorbar()\n",
    "plt.clim()"
   ]
  },
  {
   "cell_type": "code",
   "execution_count": 416,
   "metadata": {},
   "outputs": [],
   "source": [
    "topic_2['meta'] = clusts"
   ]
  },
  {
   "cell_type": "code",
   "execution_count": 425,
   "metadata": {},
   "outputs": [],
   "source": [
    "X = topic_2.meta\n",
    "y = topic_2.source\n",
    "X_train, X_test, y_train, y_test = train_test_split(X, y, test_size=0.2) "
   ]
  },
  {
   "cell_type": "code",
   "execution_count": 426,
   "metadata": {},
   "outputs": [
    {
     "name": "stdout",
     "output_type": "stream",
     "text": [
      "0.6015037593984962\n",
      "0.5373134328358209\n"
     ]
    },
    {
     "name": "stderr",
     "output_type": "stream",
     "text": [
      "/Users/NickThomas/Desktop/anaconda/lib/python3.6/site-packages/ipykernel_launcher.py:1: FutureWarning: reshape is deprecated and will raise in a subsequent release. Please use .values.reshape(...) instead\n",
      "  \"\"\"Entry point for launching an IPython kernel.\n",
      "/Users/NickThomas/Desktop/anaconda/lib/python3.6/site-packages/ipykernel_launcher.py:2: FutureWarning: reshape is deprecated and will raise in a subsequent release. Please use .values.reshape(...) instead\n",
      "  \n"
     ]
    }
   ],
   "source": [
    "X_train = X_train.reshape(-1,1)\n",
    "X_test = X_test.reshape(-1,1)\n",
    "\n",
    "lm2 = LogisticRegression(C=1000)\n",
    "lm2.fit(X_train, y_train)\n",
    "print(lm2.score(X_train, y_train))\n",
    "print(lm2.score(X_test, y_test))\n"
   ]
  },
  {
   "cell_type": "code",
   "execution_count": 427,
   "metadata": {},
   "outputs": [
    {
     "data": {
      "text/plain": [
       "Rueters            192\n",
       "Breitbart           95\n",
       "Huffington Post     46\n",
       "Name: source, dtype: int64"
      ]
     },
     "execution_count": 427,
     "metadata": {},
     "output_type": "execute_result"
    }
   ],
   "source": [
    "topic_2.source.value_counts()"
   ]
  },
  {
   "cell_type": "code",
   "execution_count": 428,
   "metadata": {},
   "outputs": [
    {
     "name": "stdout",
     "output_type": "stream",
     "text": [
      "<class 'pandas.core.frame.DataFrame'>\n",
      "RangeIndex: 333 entries, 0 to 332\n",
      "Data columns (total 9 columns):\n",
      "level_0        333 non-null int64\n",
      "index          333 non-null int64\n",
      "body           333 non-null object\n",
      "sub_title      333 non-null object\n",
      "title          333 non-null object\n",
      "topic          333 non-null int64\n",
      "source         333 non-null object\n",
      "topic_model    333 non-null int32\n",
      "meta           333 non-null int32\n",
      "dtypes: int32(2), int64(3), object(4)\n",
      "memory usage: 20.9+ KB\n"
     ]
    }
   ],
   "source": [
    "topic_2.info()"
   ]
  },
  {
   "cell_type": "code",
   "execution_count": 435,
   "metadata": {},
   "outputs": [
    {
     "data": {
      "text/plain": [
       "0.5765765765765766"
      ]
     },
     "execution_count": 435,
     "metadata": {},
     "output_type": "execute_result"
    }
   ],
   "source": [
    "192 / 333"
   ]
  },
  {
   "cell_type": "markdown",
   "metadata": {},
   "source": [
    "### Topic 3"
   ]
  },
  {
   "cell_type": "code",
   "execution_count": 436,
   "metadata": {},
   "outputs": [],
   "source": [
    "text_body = topic_3.body"
   ]
  },
  {
   "cell_type": "code",
   "execution_count": 437,
   "metadata": {},
   "outputs": [],
   "source": [
    "cleaned_body = clean_text(text_body)"
   ]
  },
  {
   "cell_type": "code",
   "execution_count": 460,
   "metadata": {},
   "outputs": [],
   "source": [
    "count_vectorizer2 = CountVectorizer(ngram_range=(1, 2),  \n",
    "                                   stop_words='english', \n",
    "                                   token_pattern=\"\\\\b[a-z][a-z]+\\\\b\",\n",
    "                                   lowercase=True,\n",
    "                                   max_df = 0.6)\n",
    "\n",
    "X = count_vectorizer2.fit_transform(cleaned_body)"
   ]
  },
  {
   "cell_type": "code",
   "execution_count": 461,
   "metadata": {},
   "outputs": [
    {
     "data": {
      "text/plain": [
       "(143, 44733)"
      ]
     },
     "execution_count": 461,
     "metadata": {},
     "output_type": "execute_result"
    }
   ],
   "source": [
    "X.shape"
   ]
  },
  {
   "cell_type": "code",
   "execution_count": 439,
   "metadata": {},
   "outputs": [
    {
     "name": "stderr",
     "output_type": "stream",
     "text": [
      "/Users/NickThomas/Desktop/anaconda/lib/python3.6/site-packages/sklearn/decomposition/online_lda.py:294: DeprecationWarning: n_topics has been renamed to n_components in version 0.19 and will be removed in 0.21\n",
      "  DeprecationWarning)\n"
     ]
    },
    {
     "data": {
      "text/plain": [
       "array([5.17891427e-05, 5.17875087e-05, 5.17887893e-05, 5.17884895e-05,\n",
       "       5.17872443e-05, 5.17868683e-05, 5.17885372e-05, 9.99533895e-01,\n",
       "       5.17877203e-05, 5.18009992e-05])"
      ]
     },
     "execution_count": 439,
     "metadata": {},
     "output_type": "execute_result"
    }
   ],
   "source": [
    "from sklearn.decomposition import LatentDirichletAllocation\n",
    "\n",
    "n_topics = 10\n",
    "n_iter = 10\n",
    "lda = LatentDirichletAllocation(n_topics=n_topics,\n",
    "                                max_iter=n_iter,\n",
    "                                random_state=42,\n",
    "                               learning_method='online')\n",
    "data = lda.fit_transform(X)\n",
    "data[0]"
   ]
  },
  {
   "cell_type": "code",
   "execution_count": 440,
   "metadata": {},
   "outputs": [
    {
     "name": "stdout",
     "output_type": "stream",
     "text": [
      "Topic  1\n",
      "gun breitbart school awr gun fre fre high news second santa com breitbart news fe santa fe awrhawkins hawkins awr hawkins breitbart com rang high school\n",
      "Topic  2\n",
      "fema plan climat bank ellison strateg identifi strateg plan mention disast long nation largest ask fema answer climat chang agenc asset relief specif provis\n",
      "Topic  3\n",
      "parks zink twitter nation american harri meghan honeymoon princ princ harri meghan marri harri park nation park announc senat legisl check ani look\n",
      "Topic  4\n",
      "mcgrath abrams state china gray abram democrat evan dsa trade american campaign chicago live pittsburgh evans lexington progress weekday kentucky\n",
      "Topic  5\n",
      "tesla model price musk drugmak compani drug product vehicl healthcar ship drugmakers reserv week cost prices rate pharmaceut elon musk batteri\n",
      "Topic  6\n",
      "nixon hillari clinton cynthia nixon hillari cuomo clinton women hillary andrew cuomo hell place hell valuabl jezebel women don don help hell women male clinton endors endors cynthia special place\n",
      "Topic  7\n",
      "wood port farenthold burn sexual rule lava sport scheme athlet gymnast usa gymnast volcano ocean abus gambl sexual abus heat nassar worker\n",
      "Topic  8\n",
      "homeschool state epstein kill year hi googl peopl ramadan attack school percent say taliban news afghanistan like group research trump\n",
      "Topic  9\n",
      "bernhardt mgm lobbyist hi subway meet casino ballard lobbi twitter firm salvini interior depart hire year campaign jonathan shorman nixon matteo\n",
      "Topic  10\n",
      "trump republican hous democrat presid hi conserv support vote million elect reagan leader speaker immigr american state jordan leadership nation\n"
     ]
    }
   ],
   "source": [
    "def display_topics(model, feature_names, no_top_words):\n",
    "    for ix, topic in enumerate(model.components_):\n",
    "        print(\"Topic \", ix+1)\n",
    "        print(\" \".join([feature_names[i]\n",
    "                        for i in topic.argsort()[:-no_top_words - 1:-1]]))\n",
    "        \n",
    "display_topics(lda,count_vectorizer2.get_feature_names(),20)"
   ]
  },
  {
   "cell_type": "code",
   "execution_count": 441,
   "metadata": {},
   "outputs": [],
   "source": [
    "X = StandardScaler().fit_transform(data)\n",
    "\n",
    "\n",
    "pca = PCA(n_components = 2)\n",
    "X_centered_projected = pca.fit_transform(X)"
   ]
  },
  {
   "cell_type": "code",
   "execution_count": 442,
   "metadata": {},
   "outputs": [],
   "source": [
    "SSEs = []\n",
    "Sil_coefs = []\n",
    "for k in range(2,10):\n",
    "    km = KMeans(n_clusters=k, random_state=1)\n",
    "    km.fit(X_centered_projected)\n",
    "    labels = km.labels_\n",
    "    Sil_coefs.append(silhouette_score(X_centered_projected, labels, metric='euclidean'))\n",
    "    SSEs.append(km.inertia_) "
   ]
  },
  {
   "cell_type": "code",
   "execution_count": 443,
   "metadata": {},
   "outputs": [
    {
     "data": {
      "image/png": "[encoded data removed]",
      "text/plain": [
       "<Figure size 3000x1000 with 2 Axes>"
      ]
     },
     "metadata": {},
     "output_type": "display_data"
    }
   ],
   "source": [
    "fig, (ax1, ax2) = plt.subplots(1,2, figsize=(15,5), sharex=True, dpi=200)\n",
    "k_clusters = range(2,10)\n",
    "ax1.plot(k_clusters, Sil_coefs)\n",
    "ax1.set_xlabel('number of clusters')\n",
    "ax1.set_ylabel('silhouette coefficient')\n",
    "\n",
    "# plot here on ax2\n",
    "ax2.plot(k_clusters, SSEs)\n",
    "ax2.set_xlabel('number of clusters')\n",
    "ax2.set_ylabel('SSE');"
   ]
  },
  {
   "cell_type": "code",
   "execution_count": 444,
   "metadata": {},
   "outputs": [],
   "source": [
    "\n",
    "km = KMeans(n_clusters=4)\n",
    "clusts = km.fit_predict(X_centered_projected)"
   ]
  },
  {
   "cell_type": "code",
   "execution_count": 445,
   "metadata": {},
   "outputs": [
    {
     "data": {
      "text/plain": [
       "array([[-1.29516498, -0.29135428],\n",
       "       [ 1.75207783, -0.92551832],\n",
       "       [ 0.81891833,  2.88607272],\n",
       "       [ 0.18288474,  0.42049929]])"
      ]
     },
     "execution_count": 445,
     "metadata": {},
     "output_type": "execute_result"
    }
   ],
   "source": [
    "centers = km.cluster_centers_\n",
    "centers"
   ]
  },
  {
   "cell_type": "code",
   "execution_count": 464,
   "metadata": {},
   "outputs": [
    {
     "data": {
      "text/plain": [
       "<matplotlib.collections.PathCollection at 0x11017abe0>"
      ]
     },
     "execution_count": 464,
     "metadata": {},
     "output_type": "execute_result"
    },
    {
     "data": {
      "image/png": "[encoded data removed]",
      "text/plain": [
       "<Figure size 432x288 with 1 Axes>"
      ]
     },
     "metadata": {},
     "output_type": "display_data"
    }
   ],
   "source": [
    "plt.scatter(X_centered_projected[:, 0], X_centered_projected[:, 1], c=clusts, cmap=plt.cm.rainbow, alpha=0.25)\n",
    "plt.scatter(centers[:,0], centers[:,1], marker=\"x\", color='black')\n",
    "#plt.xlim(-.5,1.5)\n",
    "#plt.ylim(1.5,4.5)"
   ]
  },
  {
   "cell_type": "code",
   "execution_count": 447,
   "metadata": {},
   "outputs": [],
   "source": [
    "tsne = TSNE(n_components=2)"
   ]
  },
  {
   "cell_type": "code",
   "execution_count": 448,
   "metadata": {},
   "outputs": [],
   "source": [
    "X_transformed = tsne.fit_transform(X_centered_projected)"
   ]
  },
  {
   "cell_type": "code",
   "execution_count": 449,
   "metadata": {},
   "outputs": [
    {
     "data": {
      "image/png": "[encoded data removed]",
      "text/plain": [
       "<Figure size 600x400 with 2 Axes>"
      ]
     },
     "metadata": {},
     "output_type": "display_data"
    }
   ],
   "source": [
    "plt.figure(dpi=100)\n",
    "\n",
    "cmap = plt.cm.get_cmap('rainbow', 10)\n",
    "plt.scatter(X_transformed[:, 0], X_transformed[:,1], c=clusts, cmap=cmap)#, alpha = 0.15)\n",
    "#plt.xlim(-20,30)\n",
    "#plt.ylim(-30,-10)\n",
    "plt.colorbar()\n",
    "plt.clim()"
   ]
  },
  {
   "cell_type": "code",
   "execution_count": 450,
   "metadata": {},
   "outputs": [],
   "source": [
    "topic_3['meta'] = clusts"
   ]
  },
  {
   "cell_type": "code",
   "execution_count": 451,
   "metadata": {},
   "outputs": [],
   "source": [
    "X = topic_3.meta\n",
    "y = topic_3.source\n",
    "X_train, X_test, y_train, y_test = train_test_split(X, y, test_size=0.2) "
   ]
  },
  {
   "cell_type": "code",
   "execution_count": 452,
   "metadata": {},
   "outputs": [
    {
     "name": "stdout",
     "output_type": "stream",
     "text": [
      "0.5\n",
      "0.4827586206896552\n"
     ]
    },
    {
     "name": "stderr",
     "output_type": "stream",
     "text": [
      "/Users/NickThomas/Desktop/anaconda/lib/python3.6/site-packages/ipykernel_launcher.py:1: FutureWarning: reshape is deprecated and will raise in a subsequent release. Please use .values.reshape(...) instead\n",
      "  \"\"\"Entry point for launching an IPython kernel.\n",
      "/Users/NickThomas/Desktop/anaconda/lib/python3.6/site-packages/ipykernel_launcher.py:2: FutureWarning: reshape is deprecated and will raise in a subsequent release. Please use .values.reshape(...) instead\n",
      "  \n"
     ]
    }
   ],
   "source": [
    "X_train = X_train.reshape(-1,1)\n",
    "X_test = X_test.reshape(-1,1)\n",
    "\n",
    "lm2 = LogisticRegression(C=1000)\n",
    "lm2.fit(X_train, y_train)\n",
    "print(lm2.score(X_train, y_train))\n",
    "print(lm2.score(X_test, y_test))\n"
   ]
  },
  {
   "cell_type": "code",
   "execution_count": 554,
   "metadata": {},
   "outputs": [
    {
     "name": "stdout",
     "output_type": "stream",
     "text": [
      "<class 'pandas.core.frame.DataFrame'>\n",
      "RangeIndex: 143 entries, 0 to 142\n",
      "Data columns (total 9 columns):\n",
      "level_0        143 non-null int64\n",
      "index          143 non-null int64\n",
      "body           143 non-null object\n",
      "sub_title      143 non-null object\n",
      "title          143 non-null object\n",
      "topic          143 non-null int64\n",
      "source         143 non-null object\n",
      "topic_model    143 non-null int32\n",
      "meta           143 non-null int32\n",
      "dtypes: int32(2), int64(3), object(4)\n",
      "memory usage: 9.0+ KB\n"
     ]
    }
   ],
   "source": [
    "topic_3.info()"
   ]
  },
  {
   "cell_type": "code",
   "execution_count": 555,
   "metadata": {},
   "outputs": [
    {
     "data": {
      "text/plain": [
       "Breitbart          71\n",
       "Huffington Post    48\n",
       "Rueters            24\n",
       "Name: source, dtype: int64"
      ]
     },
     "execution_count": 555,
     "metadata": {},
     "output_type": "execute_result"
    }
   ],
   "source": [
    "topic_3.source.value_counts()"
   ]
  },
  {
   "cell_type": "code",
   "execution_count": 470,
   "metadata": {},
   "outputs": [
    {
     "data": {
      "text/plain": [
       "Rueters            219\n",
       "Breitbart          180\n",
       "Huffington Post    151\n",
       "Name: source, dtype: int64"
      ]
     },
     "execution_count": 470,
     "metadata": {},
     "output_type": "execute_result"
    }
   ],
   "source": [
    "news_bias_df.source.value_counts()"
   ]
  },
  {
   "cell_type": "code",
   "execution_count": 556,
   "metadata": {},
   "outputs": [
    {
     "name": "stdout",
     "output_type": "stream",
     "text": [
      "0.16783216783216784\n",
      "0.1095890410958904\n",
      "0.018392566337771817\n"
     ]
    }
   ],
   "source": [
    "a = 24 / 143\n",
    "b = 24 / 219\n",
    "c = a * b\n",
    "print(a)\n",
    "print(b)\n",
    "print(c)"
   ]
  },
  {
   "cell_type": "code",
   "execution_count": 557,
   "metadata": {},
   "outputs": [
    {
     "name": "stdout",
     "output_type": "stream",
     "text": [
      "baseline score of all Rueters articles: 0.5295\n"
     ]
    }
   ],
   "source": [
    "print(\"baseline score of all Rueters articles:\", (.04 * .01) + (.58 * .88) + (.17 * .11))"
   ]
  },
  {
   "cell_type": "code",
   "execution_count": 502,
   "metadata": {},
   "outputs": [
    {
     "name": "stdout",
     "output_type": "stream",
     "text": [
      "Huffpo left wing score: 0.67\n",
      "Huffpo center score: 0.1\n",
      "Huffpo right wing score: 0.24\n"
     ]
    }
   ],
   "source": [
    "print(\"Huffpo left wing score:\", round((.77 * .38) / .44, 2))\n",
    "print(\"Huffpo center score:\", round((.14 * .3) / .44, 2))\n",
    "print(\"Huffpo right wing score:\", round((.33 * .32) / .44, 2))"
   ]
  },
  {
   "cell_type": "code",
   "execution_count": 572,
   "metadata": {},
   "outputs": [
    {
     "name": "stdout",
     "output_type": "stream",
     "text": [
      "Breitbart left wing score: 0.04\n",
      "Breitbart center score: 0.42\n",
      "Breitbart right wing score: 0.54\n"
     ]
    }
   ],
   "source": [
    "print(\"Breitbart left wing score:\", round((.19 * .08) / .36, 2))\n",
    "print(\"Breitbart center score:\", round((.29 * .52) / .36, 2))\n",
    "print(\"Breitbart right wing score:\", round((.5 * .39) / .36, 2))"
   ]
  },
  {
   "cell_type": "code",
   "execution_count": 575,
   "metadata": {},
   "outputs": [
    {
     "data": {
      "text/plain": [
       "0.195"
      ]
     },
     "execution_count": 575,
     "metadata": {},
     "output_type": "execute_result"
    }
   ],
   "source": []
  },
  {
   "cell_type": "code",
   "execution_count": 558,
   "metadata": {},
   "outputs": [
    {
     "name": "stdout",
     "output_type": "stream",
     "text": [
      "Rueters left wing score: 0.0\n",
      "Rueters center score: 0.96\n",
      "Rueters right wing score: 0.04\n"
     ]
    }
   ],
   "source": [
    "print(\"Rueters left wing score:\", round((.04 * .01) / .53, 2))\n",
    "print(\"Rueters center score:\", round((.58 * .88) / .53, 2))\n",
    "print(\"Rueters right wing score:\", round((.17 * .11) / .53, 2))"
   ]
  },
  {
   "cell_type": "code",
   "execution_count": 519,
   "metadata": {},
   "outputs": [],
   "source": [
    "Breit = topic_2['source'] == 'Breitbart'\n",
    "odd = topic_2[Breit]\n",
    "odd = odd.reset_index()"
   ]
  },
  {
   "cell_type": "code",
   "execution_count": 571,
   "metadata": {},
   "outputs": [
    {
     "data": {
      "text/plain": [
       "'Exclusive–Patrick K. O’Donnell: A Sacred Choice; The Forgotten Doughboy Who Selected America’s Unknown Soldier'"
      ]
     },
     "execution_count": 571,
     "metadata": {},
     "output_type": "execute_result"
    }
   ],
   "source": [
    "odd.title[11]"
   ]
  },
  {
   "cell_type": "code",
   "execution_count": 567,
   "metadata": {},
   "outputs": [
    {
     "data": {
      "text/plain": [
       "'Trump Sets Up Showdown With DOJ Over Claims Of Campaign Surveillance'"
      ]
     },
     "execution_count": 567,
     "metadata": {},
     "output_type": "execute_result"
    }
   ],
   "source": [
    "topic_2.title[3]"
   ]
  },
  {
   "cell_type": "code",
   "execution_count": 566,
   "metadata": {},
   "outputs": [
    {
     "data": {
      "text/plain": [
       "level_0                                                       13\n",
       "index                                                         15\n",
       "body           \\nA former adviser to President Donald Trump o...\n",
       "sub_title      Trump has asked the Justice Department to look...\n",
       "title          Ex-Trump Adviser Calls President’s Claims That...\n",
       "topic                                                          1\n",
       "source                                           Huffington Post\n",
       "topic_model                                                    1\n",
       "meta                                                           0\n",
       "Name: 2, dtype: object"
      ]
     },
     "execution_count": 566,
     "metadata": {},
     "output_type": "execute_result"
    }
   ],
   "source": [
    "topic_2.iloc[2]"
   ]
  },
  {
   "cell_type": "code",
   "execution_count": null,
   "metadata": {},
   "outputs": [],
   "source": []
  }
 ],
 "metadata": {
  "kernelspec": {
   "display_name": "Python 3",
   "language": "python",
   "name": "python3"
  },
  "language_info": {
   "codemirror_mode": {
    "name": "ipython",
    "version": 3
   },
   "file_extension": ".py",
   "mimetype": "text/x-python",
   "name": "python",
   "nbconvert_exporter": "python",
   "pygments_lexer": "ipython3",
   "version": "3.6.5"
  }
 },
 "nbformat": 4,
 "nbformat_minor": 2
}
